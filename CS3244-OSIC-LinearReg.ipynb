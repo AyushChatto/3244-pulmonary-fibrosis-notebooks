{
 "cells": [
  {
   "cell_type": "code",
   "execution_count": 50,
   "metadata": {
    "executionInfo": {
     "elapsed": 674,
     "status": "ok",
     "timestamp": 1605003028491,
     "user": {
      "displayName": "vanessa tan",
      "photoUrl": "https://lh3.googleusercontent.com/a-/AOh14GjsYBYO0OWNQMe7HO_hsrjMAdQ2w1oRNqoua8nSq3o=s64",
      "userId": "01347962914235519410"
     },
     "user_tz": -480
    },
    "id": "cSLa2hy_jk3B"
   },
   "outputs": [],
   "source": [
    "import numpy as np\n",
    "import pandas as pd\n",
    "import matplotlib.pyplot as plt\n",
    "import tensorflow as tf\n",
    "#import pydicom\n",
    "from sklearn.compose import ColumnTransformer\n",
    "from sklearn.preprocessing import StandardScaler,LabelEncoder,OneHotEncoder,PowerTransformer\n",
    "from sklearn.model_selection import GroupKFold\n",
    "from sklearn.model_selection import cross_val_score\n",
    "from sklearn.linear_model import LinearRegression"
   ]
  },
  {
   "cell_type": "code",
   "execution_count": 51,
   "metadata": {
    "executionInfo": {
     "elapsed": 1086,
     "status": "ok",
     "timestamp": 1605003028914,
     "user": {
      "displayName": "vanessa tan",
      "photoUrl": "https://lh3.googleusercontent.com/a-/AOh14GjsYBYO0OWNQMe7HO_hsrjMAdQ2w1oRNqoua8nSq3o=s64",
      "userId": "01347962914235519410"
     },
     "user_tz": -480
    },
    "id": "KB4eIfEwjyie"
   },
   "outputs": [],
   "source": [
    "train = pd.read_csv('/content/our_train.csv')\n",
    "test = pd.read_csv('/content/our_test.csv')"
   ]
  },
  {
   "cell_type": "code",
   "execution_count": 52,
   "metadata": {
    "colab": {
     "base_uri": "https://localhost:8080/"
    },
    "executionInfo": {
     "elapsed": 1080,
     "status": "ok",
     "timestamp": 1605003028915,
     "user": {
      "displayName": "vanessa tan",
      "photoUrl": "https://lh3.googleusercontent.com/a-/AOh14GjsYBYO0OWNQMe7HO_hsrjMAdQ2w1oRNqoua8nSq3o=s64",
      "userId": "01347962914235519410"
     },
     "user_tz": -480
    },
    "id": "N4pZoeYJjyrO",
    "outputId": "8f6e1f04-ac96-42d8-b1ca-e427aba48202"
   },
   "outputs": [
    {
     "data": {
      "text/plain": [
       "((1223, 7), (312, 7))"
      ]
     },
     "execution_count": 52,
     "metadata": {
      "tags": []
     },
     "output_type": "execute_result"
    }
   ],
   "source": [
    "train.shape, test.shape"
   ]
  },
  {
   "cell_type": "code",
   "execution_count": 53,
   "metadata": {
    "colab": {
     "base_uri": "https://localhost:8080/",
     "height": 204
    },
    "executionInfo": {
     "elapsed": 1072,
     "status": "ok",
     "timestamp": 1605003028917,
     "user": {
      "displayName": "vanessa tan",
      "photoUrl": "https://lh3.googleusercontent.com/a-/AOh14GjsYBYO0OWNQMe7HO_hsrjMAdQ2w1oRNqoua8nSq3o=s64",
      "userId": "01347962914235519410"
     },
     "user_tz": -480
    },
    "id": "Kc474wbKjyyy",
    "outputId": "730b45de-7880-4a22-a005-4b9eda83f4b4"
   },
   "outputs": [
    {
     "data": {
      "text/html": [
       "<div>\n",
       "<style scoped>\n",
       "    .dataframe tbody tr th:only-of-type {\n",
       "        vertical-align: middle;\n",
       "    }\n",
       "\n",
       "    .dataframe tbody tr th {\n",
       "        vertical-align: top;\n",
       "    }\n",
       "\n",
       "    .dataframe thead th {\n",
       "        text-align: right;\n",
       "    }\n",
       "</style>\n",
       "<table border=\"1\" class=\"dataframe\">\n",
       "  <thead>\n",
       "    <tr style=\"text-align: right;\">\n",
       "      <th></th>\n",
       "      <th>Patient</th>\n",
       "      <th>Weeks</th>\n",
       "      <th>FVC</th>\n",
       "      <th>Percent</th>\n",
       "      <th>Age</th>\n",
       "      <th>Sex</th>\n",
       "      <th>SmokingStatus</th>\n",
       "    </tr>\n",
       "  </thead>\n",
       "  <tbody>\n",
       "    <tr>\n",
       "      <th>0</th>\n",
       "      <td>ID00007637202177411956430</td>\n",
       "      <td>-4</td>\n",
       "      <td>2315</td>\n",
       "      <td>58.253649</td>\n",
       "      <td>79</td>\n",
       "      <td>Male</td>\n",
       "      <td>Ex-smoker</td>\n",
       "    </tr>\n",
       "    <tr>\n",
       "      <th>1</th>\n",
       "      <td>ID00007637202177411956430</td>\n",
       "      <td>5</td>\n",
       "      <td>2214</td>\n",
       "      <td>55.712129</td>\n",
       "      <td>79</td>\n",
       "      <td>Male</td>\n",
       "      <td>Ex-smoker</td>\n",
       "    </tr>\n",
       "    <tr>\n",
       "      <th>2</th>\n",
       "      <td>ID00007637202177411956430</td>\n",
       "      <td>7</td>\n",
       "      <td>2061</td>\n",
       "      <td>51.862104</td>\n",
       "      <td>79</td>\n",
       "      <td>Male</td>\n",
       "      <td>Ex-smoker</td>\n",
       "    </tr>\n",
       "    <tr>\n",
       "      <th>3</th>\n",
       "      <td>ID00007637202177411956430</td>\n",
       "      <td>9</td>\n",
       "      <td>2144</td>\n",
       "      <td>53.950679</td>\n",
       "      <td>79</td>\n",
       "      <td>Male</td>\n",
       "      <td>Ex-smoker</td>\n",
       "    </tr>\n",
       "    <tr>\n",
       "      <th>4</th>\n",
       "      <td>ID00007637202177411956430</td>\n",
       "      <td>11</td>\n",
       "      <td>2069</td>\n",
       "      <td>52.063412</td>\n",
       "      <td>79</td>\n",
       "      <td>Male</td>\n",
       "      <td>Ex-smoker</td>\n",
       "    </tr>\n",
       "  </tbody>\n",
       "</table>\n",
       "</div>"
      ],
      "text/plain": [
       "                     Patient  Weeks   FVC    Percent  Age   Sex SmokingStatus\n",
       "0  ID00007637202177411956430     -4  2315  58.253649   79  Male     Ex-smoker\n",
       "1  ID00007637202177411956430      5  2214  55.712129   79  Male     Ex-smoker\n",
       "2  ID00007637202177411956430      7  2061  51.862104   79  Male     Ex-smoker\n",
       "3  ID00007637202177411956430      9  2144  53.950679   79  Male     Ex-smoker\n",
       "4  ID00007637202177411956430     11  2069  52.063412   79  Male     Ex-smoker"
      ]
     },
     "execution_count": 53,
     "metadata": {
      "tags": []
     },
     "output_type": "execute_result"
    }
   ],
   "source": [
    "train.head()"
   ]
  },
  {
   "cell_type": "code",
   "execution_count": 54,
   "metadata": {
    "colab": {
     "base_uri": "https://localhost:8080/",
     "height": 204
    },
    "executionInfo": {
     "elapsed": 1065,
     "status": "ok",
     "timestamp": 1605003028918,
     "user": {
      "displayName": "vanessa tan",
      "photoUrl": "https://lh3.googleusercontent.com/a-/AOh14GjsYBYO0OWNQMe7HO_hsrjMAdQ2w1oRNqoua8nSq3o=s64",
      "userId": "01347962914235519410"
     },
     "user_tz": -480
    },
    "id": "7Kw94BVGjy5o",
    "outputId": "19541b40-393d-4272-c457-18c6a7a43855"
   },
   "outputs": [
    {
     "data": {
      "text/html": [
       "<div>\n",
       "<style scoped>\n",
       "    .dataframe tbody tr th:only-of-type {\n",
       "        vertical-align: middle;\n",
       "    }\n",
       "\n",
       "    .dataframe tbody tr th {\n",
       "        vertical-align: top;\n",
       "    }\n",
       "\n",
       "    .dataframe thead th {\n",
       "        text-align: right;\n",
       "    }\n",
       "</style>\n",
       "<table border=\"1\" class=\"dataframe\">\n",
       "  <thead>\n",
       "    <tr style=\"text-align: right;\">\n",
       "      <th></th>\n",
       "      <th>Patient</th>\n",
       "      <th>Weeks</th>\n",
       "      <th>FVC</th>\n",
       "      <th>Percent</th>\n",
       "      <th>Age</th>\n",
       "      <th>Sex</th>\n",
       "      <th>SmokingStatus</th>\n",
       "    </tr>\n",
       "  </thead>\n",
       "  <tbody>\n",
       "    <tr>\n",
       "      <th>0</th>\n",
       "      <td>ID00023637202179104603099</td>\n",
       "      <td>-3</td>\n",
       "      <td>1536</td>\n",
       "      <td>65.306122</td>\n",
       "      <td>71</td>\n",
       "      <td>Female</td>\n",
       "      <td>Ex-smoker</td>\n",
       "    </tr>\n",
       "    <tr>\n",
       "      <th>1</th>\n",
       "      <td>ID00023637202179104603099</td>\n",
       "      <td>3</td>\n",
       "      <td>1368</td>\n",
       "      <td>58.163265</td>\n",
       "      <td>71</td>\n",
       "      <td>Female</td>\n",
       "      <td>Ex-smoker</td>\n",
       "    </tr>\n",
       "    <tr>\n",
       "      <th>2</th>\n",
       "      <td>ID00023637202179104603099</td>\n",
       "      <td>5</td>\n",
       "      <td>1361</td>\n",
       "      <td>57.865646</td>\n",
       "      <td>71</td>\n",
       "      <td>Female</td>\n",
       "      <td>Ex-smoker</td>\n",
       "    </tr>\n",
       "    <tr>\n",
       "      <th>3</th>\n",
       "      <td>ID00023637202179104603099</td>\n",
       "      <td>7</td>\n",
       "      <td>1465</td>\n",
       "      <td>62.287415</td>\n",
       "      <td>71</td>\n",
       "      <td>Female</td>\n",
       "      <td>Ex-smoker</td>\n",
       "    </tr>\n",
       "    <tr>\n",
       "      <th>4</th>\n",
       "      <td>ID00023637202179104603099</td>\n",
       "      <td>9</td>\n",
       "      <td>1681</td>\n",
       "      <td>71.471088</td>\n",
       "      <td>71</td>\n",
       "      <td>Female</td>\n",
       "      <td>Ex-smoker</td>\n",
       "    </tr>\n",
       "  </tbody>\n",
       "</table>\n",
       "</div>"
      ],
      "text/plain": [
       "                     Patient  Weeks   FVC    Percent  Age     Sex SmokingStatus\n",
       "0  ID00023637202179104603099     -3  1536  65.306122   71  Female     Ex-smoker\n",
       "1  ID00023637202179104603099      3  1368  58.163265   71  Female     Ex-smoker\n",
       "2  ID00023637202179104603099      5  1361  57.865646   71  Female     Ex-smoker\n",
       "3  ID00023637202179104603099      7  1465  62.287415   71  Female     Ex-smoker\n",
       "4  ID00023637202179104603099      9  1681  71.471088   71  Female     Ex-smoker"
      ]
     },
     "execution_count": 54,
     "metadata": {
      "tags": []
     },
     "output_type": "execute_result"
    }
   ],
   "source": [
    "test.head()"
   ]
  },
  {
   "cell_type": "code",
   "execution_count": 55,
   "metadata": {
    "executionInfo": {
     "elapsed": 1050,
     "status": "ok",
     "timestamp": 1605003028919,
     "user": {
      "displayName": "vanessa tan",
      "photoUrl": "https://lh3.googleusercontent.com/a-/AOh14GjsYBYO0OWNQMe7HO_hsrjMAdQ2w1oRNqoua8nSq3o=s64",
      "userId": "01347962914235519410"
     },
     "user_tz": -480
    },
    "id": "eWzUBbcgjzB0"
   },
   "outputs": [],
   "source": [
    "# Using Weeks, Age, Sex and Smoking Status columns from train data\n",
    "X = train[['Weeks','Age','Sex','SmokingStatus']].copy()\n",
    "y = train['FVC'].copy()\n",
    "\n",
    "# save the stats for future use\n",
    "stats = X.describe().T\n",
    "\n",
    "# One hot encoding on Sex and SmokingStatus columns\n",
    "#pd.get_dummies - assign numerical value to these categorical inputs. \n",
    "X = pd.get_dummies(X, columns =['Sex','SmokingStatus'],drop_first=True)\n",
    "\n",
    "#Scaling numeric features \n",
    "# scaling the numeric features\n",
    "for col in ['Weeks', 'Age']:\n",
    "    X[col] = (X[col] - stats.loc[col, 'min']) / (stats.loc[col, 'max'] - stats.loc[col, 'min'])"
   ]
  },
  {
   "cell_type": "code",
   "execution_count": 56,
   "metadata": {
    "colab": {
     "base_uri": "https://localhost:8080/",
     "height": 204
    },
    "executionInfo": {
     "elapsed": 1046,
     "status": "ok",
     "timestamp": 1605003028920,
     "user": {
      "displayName": "vanessa tan",
      "photoUrl": "https://lh3.googleusercontent.com/a-/AOh14GjsYBYO0OWNQMe7HO_hsrjMAdQ2w1oRNqoua8nSq3o=s64",
      "userId": "01347962914235519410"
     },
     "user_tz": -480
    },
    "id": "vYYNLSahlvIP",
    "outputId": "abf6c0b7-4094-4d3b-8a81-a3b0eecaf0ef"
   },
   "outputs": [
    {
     "data": {
      "text/html": [
       "<div>\n",
       "<style scoped>\n",
       "    .dataframe tbody tr th:only-of-type {\n",
       "        vertical-align: middle;\n",
       "    }\n",
       "\n",
       "    .dataframe tbody tr th {\n",
       "        vertical-align: top;\n",
       "    }\n",
       "\n",
       "    .dataframe thead th {\n",
       "        text-align: right;\n",
       "    }\n",
       "</style>\n",
       "<table border=\"1\" class=\"dataframe\">\n",
       "  <thead>\n",
       "    <tr style=\"text-align: right;\">\n",
       "      <th></th>\n",
       "      <th>Weeks</th>\n",
       "      <th>Age</th>\n",
       "      <th>Sex_Male</th>\n",
       "      <th>SmokingStatus_Ex-smoker</th>\n",
       "      <th>SmokingStatus_Never smoked</th>\n",
       "    </tr>\n",
       "  </thead>\n",
       "  <tbody>\n",
       "    <tr>\n",
       "      <th>0</th>\n",
       "      <td>0.007246</td>\n",
       "      <td>0.789474</td>\n",
       "      <td>1</td>\n",
       "      <td>1</td>\n",
       "      <td>0</td>\n",
       "    </tr>\n",
       "    <tr>\n",
       "      <th>1</th>\n",
       "      <td>0.072464</td>\n",
       "      <td>0.789474</td>\n",
       "      <td>1</td>\n",
       "      <td>1</td>\n",
       "      <td>0</td>\n",
       "    </tr>\n",
       "    <tr>\n",
       "      <th>2</th>\n",
       "      <td>0.086957</td>\n",
       "      <td>0.789474</td>\n",
       "      <td>1</td>\n",
       "      <td>1</td>\n",
       "      <td>0</td>\n",
       "    </tr>\n",
       "    <tr>\n",
       "      <th>3</th>\n",
       "      <td>0.101449</td>\n",
       "      <td>0.789474</td>\n",
       "      <td>1</td>\n",
       "      <td>1</td>\n",
       "      <td>0</td>\n",
       "    </tr>\n",
       "    <tr>\n",
       "      <th>4</th>\n",
       "      <td>0.115942</td>\n",
       "      <td>0.789474</td>\n",
       "      <td>1</td>\n",
       "      <td>1</td>\n",
       "      <td>0</td>\n",
       "    </tr>\n",
       "  </tbody>\n",
       "</table>\n",
       "</div>"
      ],
      "text/plain": [
       "      Weeks       Age  ...  SmokingStatus_Ex-smoker  SmokingStatus_Never smoked\n",
       "0  0.007246  0.789474  ...                        1                           0\n",
       "1  0.072464  0.789474  ...                        1                           0\n",
       "2  0.086957  0.789474  ...                        1                           0\n",
       "3  0.101449  0.789474  ...                        1                           0\n",
       "4  0.115942  0.789474  ...                        1                           0\n",
       "\n",
       "[5 rows x 5 columns]"
      ]
     },
     "execution_count": 56,
     "metadata": {
      "tags": []
     },
     "output_type": "execute_result"
    }
   ],
   "source": [
    "X.head()"
   ]
  },
  {
   "cell_type": "code",
   "execution_count": 57,
   "metadata": {
    "colab": {
     "base_uri": "https://localhost:8080/"
    },
    "executionInfo": {
     "elapsed": 1044,
     "status": "ok",
     "timestamp": 1605003028921,
     "user": {
      "displayName": "vanessa tan",
      "photoUrl": "https://lh3.googleusercontent.com/a-/AOh14GjsYBYO0OWNQMe7HO_hsrjMAdQ2w1oRNqoua8nSq3o=s64",
      "userId": "01347962914235519410"
     },
     "user_tz": -480
    },
    "id": "iDbIW8ZylvPm",
    "outputId": "99418ee5-c97d-4d18-fd39-7ec6491c20e9"
   },
   "outputs": [
    {
     "name": "stdout",
     "output_type": "stream",
     "text": [
      "base_FVC                      0.962155\n",
      "Percent                       0.663128\n",
      "Sex_Male                      0.483409\n",
      "SmokingStatus_Never smoked    0.183468\n",
      "Age                           0.149372\n",
      "SmokingStatus_Ex-smoker       0.119985\n",
      "Weeks                         0.023979\n",
      "base_week                     0.006648\n",
      "Name: FVC, dtype: float64\n"
     ]
    }
   ],
   "source": [
    "X = train.copy()\n",
    "y = train['FVC'].copy()\n",
    "\n",
    "X['base_week'] = X.groupby('Patient')['Weeks'].transform('min')\n",
    "X['base_FVC'] = X.groupby('Patient')['FVC'].transform('first')\n",
    "\n",
    "# save the stats for future use\n",
    "stats = X.describe().T\n",
    "\n",
    "# one hot encoding for categorical features\n",
    "X = pd.get_dummies(data=X, columns=['Sex','SmokingStatus'], drop_first=True)\n",
    "\n",
    "# Scaling numeric columns\n",
    "num_cols = ['Age','Weeks','base_week','base_FVC']\n",
    "\n",
    "# Min-max scaling\n",
    "for col in num_cols:\n",
    "    X[col] = (X[col]-stats.loc[col,'min']) / (stats.loc[col,'max'] - stats.loc[col,'min'])\n",
    "    \n",
    "# printing the correlation of all features with FVC\n",
    "print(X.corr()['FVC'].abs().sort_values(ascending=False)[1:])"
   ]
  },
  {
   "cell_type": "code",
   "execution_count": 58,
   "metadata": {
    "colab": {
     "base_uri": "https://localhost:8080/",
     "height": 204
    },
    "executionInfo": {
     "elapsed": 1043,
     "status": "ok",
     "timestamp": 1605003028924,
     "user": {
      "displayName": "vanessa tan",
      "photoUrl": "https://lh3.googleusercontent.com/a-/AOh14GjsYBYO0OWNQMe7HO_hsrjMAdQ2w1oRNqoua8nSq3o=s64",
      "userId": "01347962914235519410"
     },
     "user_tz": -480
    },
    "id": "QZYXki7-lvXU",
    "outputId": "ba8d0780-ee2d-4dda-bbb2-070dfd2f1a47"
   },
   "outputs": [
    {
     "data": {
      "text/html": [
       "<div>\n",
       "<style scoped>\n",
       "    .dataframe tbody tr th:only-of-type {\n",
       "        vertical-align: middle;\n",
       "    }\n",
       "\n",
       "    .dataframe tbody tr th {\n",
       "        vertical-align: top;\n",
       "    }\n",
       "\n",
       "    .dataframe thead th {\n",
       "        text-align: right;\n",
       "    }\n",
       "</style>\n",
       "<table border=\"1\" class=\"dataframe\">\n",
       "  <thead>\n",
       "    <tr style=\"text-align: right;\">\n",
       "      <th></th>\n",
       "      <th>Weeks</th>\n",
       "      <th>Percent</th>\n",
       "      <th>Age</th>\n",
       "      <th>base_week</th>\n",
       "      <th>base_FVC</th>\n",
       "      <th>Sex_Male</th>\n",
       "      <th>SmokingStatus_Ex-smoker</th>\n",
       "      <th>SmokingStatus_Never smoked</th>\n",
       "    </tr>\n",
       "  </thead>\n",
       "  <tbody>\n",
       "    <tr>\n",
       "      <th>0</th>\n",
       "      <td>0.007246</td>\n",
       "      <td>58.253649</td>\n",
       "      <td>0.789474</td>\n",
       "      <td>0.011905</td>\n",
       "      <td>0.241456</td>\n",
       "      <td>1</td>\n",
       "      <td>1</td>\n",
       "      <td>0</td>\n",
       "    </tr>\n",
       "    <tr>\n",
       "      <th>1</th>\n",
       "      <td>0.072464</td>\n",
       "      <td>55.712129</td>\n",
       "      <td>0.789474</td>\n",
       "      <td>0.011905</td>\n",
       "      <td>0.241456</td>\n",
       "      <td>1</td>\n",
       "      <td>1</td>\n",
       "      <td>0</td>\n",
       "    </tr>\n",
       "    <tr>\n",
       "      <th>2</th>\n",
       "      <td>0.086957</td>\n",
       "      <td>51.862104</td>\n",
       "      <td>0.789474</td>\n",
       "      <td>0.011905</td>\n",
       "      <td>0.241456</td>\n",
       "      <td>1</td>\n",
       "      <td>1</td>\n",
       "      <td>0</td>\n",
       "    </tr>\n",
       "    <tr>\n",
       "      <th>3</th>\n",
       "      <td>0.101449</td>\n",
       "      <td>53.950679</td>\n",
       "      <td>0.789474</td>\n",
       "      <td>0.011905</td>\n",
       "      <td>0.241456</td>\n",
       "      <td>1</td>\n",
       "      <td>1</td>\n",
       "      <td>0</td>\n",
       "    </tr>\n",
       "    <tr>\n",
       "      <th>4</th>\n",
       "      <td>0.115942</td>\n",
       "      <td>52.063412</td>\n",
       "      <td>0.789474</td>\n",
       "      <td>0.011905</td>\n",
       "      <td>0.241456</td>\n",
       "      <td>1</td>\n",
       "      <td>1</td>\n",
       "      <td>0</td>\n",
       "    </tr>\n",
       "  </tbody>\n",
       "</table>\n",
       "</div>"
      ],
      "text/plain": [
       "      Weeks    Percent  ...  SmokingStatus_Ex-smoker  SmokingStatus_Never smoked\n",
       "0  0.007246  58.253649  ...                        1                           0\n",
       "1  0.072464  55.712129  ...                        1                           0\n",
       "2  0.086957  51.862104  ...                        1                           0\n",
       "3  0.101449  53.950679  ...                        1                           0\n",
       "4  0.115942  52.063412  ...                        1                           0\n",
       "\n",
       "[5 rows x 8 columns]"
      ]
     },
     "execution_count": 58,
     "metadata": {
      "tags": []
     },
     "output_type": "execute_result"
    }
   ],
   "source": [
    "# removing unnecesary columns after transformations\n",
    "#drop patient, as we are building a model based on our values \n",
    "X.drop(['Patient','FVC'], axis=1, inplace=True)\n",
    "X.head()"
   ]
  },
  {
   "cell_type": "code",
   "execution_count": 59,
   "metadata": {
    "colab": {
     "base_uri": "https://localhost:8080/"
    },
    "executionInfo": {
     "elapsed": 1040,
     "status": "ok",
     "timestamp": 1605003028925,
     "user": {
      "displayName": "vanessa tan",
      "photoUrl": "https://lh3.googleusercontent.com/a-/AOh14GjsYBYO0OWNQMe7HO_hsrjMAdQ2w1oRNqoua8nSq3o=s64",
      "userId": "01347962914235519410"
     },
     "user_tz": -480
    },
    "id": "tBjh2OVIl6t0",
    "outputId": "126749f2-e381-431f-a55d-e55281863e9c"
   },
   "outputs": [
    {
     "data": {
      "text/plain": [
       "0    2315\n",
       "1    2214\n",
       "2    2061\n",
       "3    2144\n",
       "4    2069\n",
       "Name: FVC, dtype: int64"
      ]
     },
     "execution_count": 59,
     "metadata": {
      "tags": []
     },
     "output_type": "execute_result"
    }
   ],
   "source": [
    "y.head()"
   ]
  },
  {
   "cell_type": "code",
   "execution_count": 60,
   "metadata": {
    "colab": {
     "base_uri": "https://localhost:8080/"
    },
    "executionInfo": {
     "elapsed": 1037,
     "status": "ok",
     "timestamp": 1605003028926,
     "user": {
      "displayName": "vanessa tan",
      "photoUrl": "https://lh3.googleusercontent.com/a-/AOh14GjsYBYO0OWNQMe7HO_hsrjMAdQ2w1oRNqoua8nSq3o=s64",
      "userId": "01347962914235519410"
     },
     "user_tz": -480
    },
    "id": "8TT_eYxql6wL",
    "outputId": "292544d2-6fa9-413c-b888-64eb05dc2aea"
   },
   "outputs": [
    {
     "data": {
      "text/plain": [
       "array([-178.66715958, -191.27543824, -196.99707731])"
      ]
     },
     "execution_count": 60,
     "metadata": {
      "tags": []
     },
     "output_type": "execute_result"
    }
   ],
   "source": [
    "# Checking the score on transformed data nowla\n",
    "cross_val_score(LinearRegression(),X,y,cv=3,scoring='neg_root_mean_squared_error')"
   ]
  },
  {
   "cell_type": "code",
   "execution_count": 61,
   "metadata": {
    "executionInfo": {
     "elapsed": 1034,
     "status": "ok",
     "timestamp": 1605003028927,
     "user": {
      "displayName": "vanessa tan",
      "photoUrl": "https://lh3.googleusercontent.com/a-/AOh14GjsYBYO0OWNQMe7HO_hsrjMAdQ2w1oRNqoua8nSq3o=s64",
      "userId": "01347962914235519410"
     },
     "user_tz": -480
    },
    "id": "v0HSk4Kol6ya"
   },
   "outputs": [],
   "source": [
    "# fit on the train dataset\n",
    "lr = LinearRegression().fit(X, y)"
   ]
  },
  {
   "cell_type": "markdown",
   "metadata": {
    "id": "RtwVXgkQmhm5"
   },
   "source": [
    "**Making prediction on test data**"
   ]
  },
  {
   "cell_type": "code",
   "execution_count": 62,
   "metadata": {
    "executionInfo": {
     "elapsed": 1434,
     "status": "ok",
     "timestamp": 1605003029330,
     "user": {
      "displayName": "vanessa tan",
      "photoUrl": "https://lh3.googleusercontent.com/a-/AOh14GjsYBYO0OWNQMe7HO_hsrjMAdQ2w1oRNqoua8nSq3o=s64",
      "userId": "01347962914235519410"
     },
     "user_tz": -480
    },
    "id": "AMcTfpvWl60x"
   },
   "outputs": [],
   "source": [
    "X_test = test.copy()\n",
    "y_test = test['FVC'].copy()\n",
    "\n",
    "X_test['base_week'] = X_test.groupby('Patient')['Weeks'].transform('min')\n",
    "X_test['base_FVC'] = X_test.groupby('Patient')['FVC'].transform('first')\n",
    "\n",
    "# save the stats for future use\n",
    "stats = X_test.describe().T\n",
    "\n",
    "# one hot encoding for categorical features\n",
    "X_test = pd.get_dummies(data=X_test, columns=['Sex','SmokingStatus'], drop_first=True)\n",
    "\n",
    "# Scaling numeric columns\n",
    "num_cols = ['Age','Weeks','base_week','base_FVC']\n",
    "\n",
    "# Min-max scaling\n",
    "for col in num_cols:\n",
    "    X_test[col] = (X_test[col]-stats.loc[col,'min']) / (stats.loc[col,'max'] - stats.loc[col,'min'])\n"
   ]
  },
  {
   "cell_type": "code",
   "execution_count": 63,
   "metadata": {
    "colab": {
     "base_uri": "https://localhost:8080/",
     "height": 204
    },
    "executionInfo": {
     "elapsed": 1433,
     "status": "ok",
     "timestamp": 1605003029333,
     "user": {
      "displayName": "vanessa tan",
      "photoUrl": "https://lh3.googleusercontent.com/a-/AOh14GjsYBYO0OWNQMe7HO_hsrjMAdQ2w1oRNqoua8nSq3o=s64",
      "userId": "01347962914235519410"
     },
     "user_tz": -480
    },
    "id": "bLlcsDXUl627",
    "outputId": "c62e6191-fd71-4ee6-bb77-d1e33f34e0fd"
   },
   "outputs": [
    {
     "data": {
      "text/html": [
       "<div>\n",
       "<style scoped>\n",
       "    .dataframe tbody tr th:only-of-type {\n",
       "        vertical-align: middle;\n",
       "    }\n",
       "\n",
       "    .dataframe tbody tr th {\n",
       "        vertical-align: top;\n",
       "    }\n",
       "\n",
       "    .dataframe thead th {\n",
       "        text-align: right;\n",
       "    }\n",
       "</style>\n",
       "<table border=\"1\" class=\"dataframe\">\n",
       "  <thead>\n",
       "    <tr style=\"text-align: right;\">\n",
       "      <th></th>\n",
       "      <th>Weeks</th>\n",
       "      <th>Percent</th>\n",
       "      <th>Age</th>\n",
       "      <th>base_week</th>\n",
       "      <th>base_FVC</th>\n",
       "      <th>Sex_Male</th>\n",
       "      <th>SmokingStatus_Ex-smoker</th>\n",
       "      <th>SmokingStatus_Never smoked</th>\n",
       "    </tr>\n",
       "  </thead>\n",
       "  <tbody>\n",
       "    <tr>\n",
       "      <th>0</th>\n",
       "      <td>0.009434</td>\n",
       "      <td>65.306122</td>\n",
       "      <td>0.540541</td>\n",
       "      <td>0.019231</td>\n",
       "      <td>0.044037</td>\n",
       "      <td>0</td>\n",
       "      <td>1</td>\n",
       "      <td>0</td>\n",
       "    </tr>\n",
       "    <tr>\n",
       "      <th>1</th>\n",
       "      <td>0.066038</td>\n",
       "      <td>58.163265</td>\n",
       "      <td>0.540541</td>\n",
       "      <td>0.019231</td>\n",
       "      <td>0.044037</td>\n",
       "      <td>0</td>\n",
       "      <td>1</td>\n",
       "      <td>0</td>\n",
       "    </tr>\n",
       "    <tr>\n",
       "      <th>2</th>\n",
       "      <td>0.084906</td>\n",
       "      <td>57.865646</td>\n",
       "      <td>0.540541</td>\n",
       "      <td>0.019231</td>\n",
       "      <td>0.044037</td>\n",
       "      <td>0</td>\n",
       "      <td>1</td>\n",
       "      <td>0</td>\n",
       "    </tr>\n",
       "    <tr>\n",
       "      <th>3</th>\n",
       "      <td>0.103774</td>\n",
       "      <td>62.287415</td>\n",
       "      <td>0.540541</td>\n",
       "      <td>0.019231</td>\n",
       "      <td>0.044037</td>\n",
       "      <td>0</td>\n",
       "      <td>1</td>\n",
       "      <td>0</td>\n",
       "    </tr>\n",
       "    <tr>\n",
       "      <th>4</th>\n",
       "      <td>0.122642</td>\n",
       "      <td>71.471088</td>\n",
       "      <td>0.540541</td>\n",
       "      <td>0.019231</td>\n",
       "      <td>0.044037</td>\n",
       "      <td>0</td>\n",
       "      <td>1</td>\n",
       "      <td>0</td>\n",
       "    </tr>\n",
       "  </tbody>\n",
       "</table>\n",
       "</div>"
      ],
      "text/plain": [
       "      Weeks    Percent  ...  SmokingStatus_Ex-smoker  SmokingStatus_Never smoked\n",
       "0  0.009434  65.306122  ...                        1                           0\n",
       "1  0.066038  58.163265  ...                        1                           0\n",
       "2  0.084906  57.865646  ...                        1                           0\n",
       "3  0.103774  62.287415  ...                        1                           0\n",
       "4  0.122642  71.471088  ...                        1                           0\n",
       "\n",
       "[5 rows x 8 columns]"
      ]
     },
     "execution_count": 63,
     "metadata": {
      "tags": []
     },
     "output_type": "execute_result"
    }
   ],
   "source": [
    "X_test.drop(['Patient','FVC'], axis=1, inplace=True)\n",
    "X_test.head()"
   ]
  },
  {
   "cell_type": "code",
   "execution_count": 64,
   "metadata": {
    "executionInfo": {
     "elapsed": 1429,
     "status": "ok",
     "timestamp": 1605003029334,
     "user": {
      "displayName": "vanessa tan",
      "photoUrl": "https://lh3.googleusercontent.com/a-/AOh14GjsYBYO0OWNQMe7HO_hsrjMAdQ2w1oRNqoua8nSq3o=s64",
      "userId": "01347962914235519410"
     },
     "user_tz": -480
    },
    "id": "RpRI-UAzm68u"
   },
   "outputs": [],
   "source": [
    "pred_test = test.copy()\n",
    "pred_test['FVC'] = lr.predict(X_test)"
   ]
  },
  {
   "cell_type": "code",
   "execution_count": 65,
   "metadata": {
    "executionInfo": {
     "elapsed": 1426,
     "status": "ok",
     "timestamp": 1605003029335,
     "user": {
      "displayName": "vanessa tan",
      "photoUrl": "https://lh3.googleusercontent.com/a-/AOh14GjsYBYO0OWNQMe7HO_hsrjMAdQ2w1oRNqoua8nSq3o=s64",
      "userId": "01347962914235519410"
     },
     "user_tz": -480
    },
    "id": "2ugIrLF8nNId"
   },
   "outputs": [],
   "source": [
    "pred_test['Patient_Week'] = pred_test.Patient + \"_\" + pred_test.Weeks.astype(str)"
   ]
  },
  {
   "cell_type": "code",
   "execution_count": 66,
   "metadata": {
    "colab": {
     "base_uri": "https://localhost:8080/",
     "height": 419
    },
    "executionInfo": {
     "elapsed": 1424,
     "status": "ok",
     "timestamp": 1605003029336,
     "user": {
      "displayName": "vanessa tan",
      "photoUrl": "https://lh3.googleusercontent.com/a-/AOh14GjsYBYO0OWNQMe7HO_hsrjMAdQ2w1oRNqoua8nSq3o=s64",
      "userId": "01347962914235519410"
     },
     "user_tz": -480
    },
    "id": "TYt8D4Ebm7G6",
    "outputId": "11b04709-7979-451b-fc28-6de23d680962"
   },
   "outputs": [
    {
     "data": {
      "text/html": [
       "<div>\n",
       "<style scoped>\n",
       "    .dataframe tbody tr th:only-of-type {\n",
       "        vertical-align: middle;\n",
       "    }\n",
       "\n",
       "    .dataframe tbody tr th {\n",
       "        vertical-align: top;\n",
       "    }\n",
       "\n",
       "    .dataframe thead th {\n",
       "        text-align: right;\n",
       "    }\n",
       "</style>\n",
       "<table border=\"1\" class=\"dataframe\">\n",
       "  <thead>\n",
       "    <tr style=\"text-align: right;\">\n",
       "      <th></th>\n",
       "      <th>Patient</th>\n",
       "      <th>Weeks</th>\n",
       "      <th>FVC</th>\n",
       "      <th>Percent</th>\n",
       "      <th>Age</th>\n",
       "      <th>Sex</th>\n",
       "      <th>SmokingStatus</th>\n",
       "      <th>Patient_Week</th>\n",
       "    </tr>\n",
       "  </thead>\n",
       "  <tbody>\n",
       "    <tr>\n",
       "      <th>0</th>\n",
       "      <td>ID00023637202179104603099</td>\n",
       "      <td>-3</td>\n",
       "      <td>1171.565110</td>\n",
       "      <td>65.306122</td>\n",
       "      <td>71</td>\n",
       "      <td>Female</td>\n",
       "      <td>Ex-smoker</td>\n",
       "      <td>ID00023637202179104603099_-3</td>\n",
       "    </tr>\n",
       "    <tr>\n",
       "      <th>1</th>\n",
       "      <td>ID00023637202179104603099</td>\n",
       "      <td>3</td>\n",
       "      <td>1071.578076</td>\n",
       "      <td>58.163265</td>\n",
       "      <td>71</td>\n",
       "      <td>Female</td>\n",
       "      <td>Ex-smoker</td>\n",
       "      <td>ID00023637202179104603099_3</td>\n",
       "    </tr>\n",
       "    <tr>\n",
       "      <th>2</th>\n",
       "      <td>ID00023637202179104603099</td>\n",
       "      <td>5</td>\n",
       "      <td>1062.181743</td>\n",
       "      <td>57.865646</td>\n",
       "      <td>71</td>\n",
       "      <td>Female</td>\n",
       "      <td>Ex-smoker</td>\n",
       "      <td>ID00023637202179104603099_5</td>\n",
       "    </tr>\n",
       "    <tr>\n",
       "      <th>3</th>\n",
       "      <td>ID00023637202179104603099</td>\n",
       "      <td>7</td>\n",
       "      <td>1107.000253</td>\n",
       "      <td>62.287415</td>\n",
       "      <td>71</td>\n",
       "      <td>Female</td>\n",
       "      <td>Ex-smoker</td>\n",
       "      <td>ID00023637202179104603099_7</td>\n",
       "    </tr>\n",
       "    <tr>\n",
       "      <th>4</th>\n",
       "      <td>ID00023637202179104603099</td>\n",
       "      <td>9</td>\n",
       "      <td>1206.522027</td>\n",
       "      <td>71.471088</td>\n",
       "      <td>71</td>\n",
       "      <td>Female</td>\n",
       "      <td>Ex-smoker</td>\n",
       "      <td>ID00023637202179104603099_9</td>\n",
       "    </tr>\n",
       "    <tr>\n",
       "      <th>...</th>\n",
       "      <td>...</td>\n",
       "      <td>...</td>\n",
       "      <td>...</td>\n",
       "      <td>...</td>\n",
       "      <td>...</td>\n",
       "      <td>...</td>\n",
       "      <td>...</td>\n",
       "      <td>...</td>\n",
       "    </tr>\n",
       "    <tr>\n",
       "      <th>307</th>\n",
       "      <td>ID00421637202311550012437</td>\n",
       "      <td>21</td>\n",
       "      <td>3273.552127</td>\n",
       "      <td>84.471603</td>\n",
       "      <td>68</td>\n",
       "      <td>Male</td>\n",
       "      <td>Ex-smoker</td>\n",
       "      <td>ID00421637202311550012437_21</td>\n",
       "    </tr>\n",
       "    <tr>\n",
       "      <th>308</th>\n",
       "      <td>ID00421637202311550012437</td>\n",
       "      <td>23</td>\n",
       "      <td>3278.930297</td>\n",
       "      <td>85.460101</td>\n",
       "      <td>68</td>\n",
       "      <td>Male</td>\n",
       "      <td>Ex-smoker</td>\n",
       "      <td>ID00421637202311550012437_23</td>\n",
       "    </tr>\n",
       "    <tr>\n",
       "      <th>309</th>\n",
       "      <td>ID00421637202311550012437</td>\n",
       "      <td>29</td>\n",
       "      <td>3213.855429</td>\n",
       "      <td>81.356338</td>\n",
       "      <td>68</td>\n",
       "      <td>Male</td>\n",
       "      <td>Ex-smoker</td>\n",
       "      <td>ID00421637202311550012437_29</td>\n",
       "    </tr>\n",
       "    <tr>\n",
       "      <th>310</th>\n",
       "      <td>ID00421637202311550012437</td>\n",
       "      <td>41</td>\n",
       "      <td>3218.251736</td>\n",
       "      <td>84.861011</td>\n",
       "      <td>68</td>\n",
       "      <td>Male</td>\n",
       "      <td>Ex-smoker</td>\n",
       "      <td>ID00421637202311550012437_41</td>\n",
       "    </tr>\n",
       "    <tr>\n",
       "      <th>311</th>\n",
       "      <td>ID00421637202311550012437</td>\n",
       "      <td>54</td>\n",
       "      <td>3158.064107</td>\n",
       "      <td>83.003834</td>\n",
       "      <td>68</td>\n",
       "      <td>Male</td>\n",
       "      <td>Ex-smoker</td>\n",
       "      <td>ID00421637202311550012437_54</td>\n",
       "    </tr>\n",
       "  </tbody>\n",
       "</table>\n",
       "<p>312 rows × 8 columns</p>\n",
       "</div>"
      ],
      "text/plain": [
       "                       Patient  ...                  Patient_Week\n",
       "0    ID00023637202179104603099  ...  ID00023637202179104603099_-3\n",
       "1    ID00023637202179104603099  ...   ID00023637202179104603099_3\n",
       "2    ID00023637202179104603099  ...   ID00023637202179104603099_5\n",
       "3    ID00023637202179104603099  ...   ID00023637202179104603099_7\n",
       "4    ID00023637202179104603099  ...   ID00023637202179104603099_9\n",
       "..                         ...  ...                           ...\n",
       "307  ID00421637202311550012437  ...  ID00421637202311550012437_21\n",
       "308  ID00421637202311550012437  ...  ID00421637202311550012437_23\n",
       "309  ID00421637202311550012437  ...  ID00421637202311550012437_29\n",
       "310  ID00421637202311550012437  ...  ID00421637202311550012437_41\n",
       "311  ID00421637202311550012437  ...  ID00421637202311550012437_54\n",
       "\n",
       "[312 rows x 8 columns]"
      ]
     },
     "execution_count": 66,
     "metadata": {
      "tags": []
     },
     "output_type": "execute_result"
    }
   ],
   "source": [
    "pred_test"
   ]
  },
  {
   "cell_type": "code",
   "execution_count": 67,
   "metadata": {
    "executionInfo": {
     "elapsed": 1422,
     "status": "ok",
     "timestamp": 1605003029338,
     "user": {
      "displayName": "vanessa tan",
      "photoUrl": "https://lh3.googleusercontent.com/a-/AOh14GjsYBYO0OWNQMe7HO_hsrjMAdQ2w1oRNqoua8nSq3o=s64",
      "userId": "01347962914235519410"
     },
     "user_tz": -480
    },
    "id": "i1pV5oCZnRyR"
   },
   "outputs": [],
   "source": [
    "test['Patient_Week'] = test.Patient + \"_\" + test.Weeks.astype(str)"
   ]
  },
  {
   "cell_type": "code",
   "execution_count": 68,
   "metadata": {
    "colab": {
     "base_uri": "https://localhost:8080/",
     "height": 419
    },
    "executionInfo": {
     "elapsed": 1419,
     "status": "ok",
     "timestamp": 1605003029339,
     "user": {
      "displayName": "vanessa tan",
      "photoUrl": "https://lh3.googleusercontent.com/a-/AOh14GjsYBYO0OWNQMe7HO_hsrjMAdQ2w1oRNqoua8nSq3o=s64",
      "userId": "01347962914235519410"
     },
     "user_tz": -480
    },
    "id": "RWULHCK7nBjr",
    "outputId": "717f956b-cbd6-41c8-fc5b-26db7c91166b"
   },
   "outputs": [
    {
     "data": {
      "text/html": [
       "<div>\n",
       "<style scoped>\n",
       "    .dataframe tbody tr th:only-of-type {\n",
       "        vertical-align: middle;\n",
       "    }\n",
       "\n",
       "    .dataframe tbody tr th {\n",
       "        vertical-align: top;\n",
       "    }\n",
       "\n",
       "    .dataframe thead th {\n",
       "        text-align: right;\n",
       "    }\n",
       "</style>\n",
       "<table border=\"1\" class=\"dataframe\">\n",
       "  <thead>\n",
       "    <tr style=\"text-align: right;\">\n",
       "      <th></th>\n",
       "      <th>Patient</th>\n",
       "      <th>Weeks</th>\n",
       "      <th>FVC</th>\n",
       "      <th>Percent</th>\n",
       "      <th>Age</th>\n",
       "      <th>Sex</th>\n",
       "      <th>SmokingStatus</th>\n",
       "      <th>Patient_Week</th>\n",
       "    </tr>\n",
       "  </thead>\n",
       "  <tbody>\n",
       "    <tr>\n",
       "      <th>0</th>\n",
       "      <td>ID00023637202179104603099</td>\n",
       "      <td>-3</td>\n",
       "      <td>1536</td>\n",
       "      <td>65.306122</td>\n",
       "      <td>71</td>\n",
       "      <td>Female</td>\n",
       "      <td>Ex-smoker</td>\n",
       "      <td>ID00023637202179104603099_-3</td>\n",
       "    </tr>\n",
       "    <tr>\n",
       "      <th>1</th>\n",
       "      <td>ID00023637202179104603099</td>\n",
       "      <td>3</td>\n",
       "      <td>1368</td>\n",
       "      <td>58.163265</td>\n",
       "      <td>71</td>\n",
       "      <td>Female</td>\n",
       "      <td>Ex-smoker</td>\n",
       "      <td>ID00023637202179104603099_3</td>\n",
       "    </tr>\n",
       "    <tr>\n",
       "      <th>2</th>\n",
       "      <td>ID00023637202179104603099</td>\n",
       "      <td>5</td>\n",
       "      <td>1361</td>\n",
       "      <td>57.865646</td>\n",
       "      <td>71</td>\n",
       "      <td>Female</td>\n",
       "      <td>Ex-smoker</td>\n",
       "      <td>ID00023637202179104603099_5</td>\n",
       "    </tr>\n",
       "    <tr>\n",
       "      <th>3</th>\n",
       "      <td>ID00023637202179104603099</td>\n",
       "      <td>7</td>\n",
       "      <td>1465</td>\n",
       "      <td>62.287415</td>\n",
       "      <td>71</td>\n",
       "      <td>Female</td>\n",
       "      <td>Ex-smoker</td>\n",
       "      <td>ID00023637202179104603099_7</td>\n",
       "    </tr>\n",
       "    <tr>\n",
       "      <th>4</th>\n",
       "      <td>ID00023637202179104603099</td>\n",
       "      <td>9</td>\n",
       "      <td>1681</td>\n",
       "      <td>71.471088</td>\n",
       "      <td>71</td>\n",
       "      <td>Female</td>\n",
       "      <td>Ex-smoker</td>\n",
       "      <td>ID00023637202179104603099_9</td>\n",
       "    </tr>\n",
       "    <tr>\n",
       "      <th>...</th>\n",
       "      <td>...</td>\n",
       "      <td>...</td>\n",
       "      <td>...</td>\n",
       "      <td>...</td>\n",
       "      <td>...</td>\n",
       "      <td>...</td>\n",
       "      <td>...</td>\n",
       "      <td>...</td>\n",
       "    </tr>\n",
       "    <tr>\n",
       "      <th>307</th>\n",
       "      <td>ID00421637202311550012437</td>\n",
       "      <td>21</td>\n",
       "      <td>2820</td>\n",
       "      <td>84.471603</td>\n",
       "      <td>68</td>\n",
       "      <td>Male</td>\n",
       "      <td>Ex-smoker</td>\n",
       "      <td>ID00421637202311550012437_21</td>\n",
       "    </tr>\n",
       "    <tr>\n",
       "      <th>308</th>\n",
       "      <td>ID00421637202311550012437</td>\n",
       "      <td>23</td>\n",
       "      <td>2853</td>\n",
       "      <td>85.460101</td>\n",
       "      <td>68</td>\n",
       "      <td>Male</td>\n",
       "      <td>Ex-smoker</td>\n",
       "      <td>ID00421637202311550012437_23</td>\n",
       "    </tr>\n",
       "    <tr>\n",
       "      <th>309</th>\n",
       "      <td>ID00421637202311550012437</td>\n",
       "      <td>29</td>\n",
       "      <td>2716</td>\n",
       "      <td>81.356338</td>\n",
       "      <td>68</td>\n",
       "      <td>Male</td>\n",
       "      <td>Ex-smoker</td>\n",
       "      <td>ID00421637202311550012437_29</td>\n",
       "    </tr>\n",
       "    <tr>\n",
       "      <th>310</th>\n",
       "      <td>ID00421637202311550012437</td>\n",
       "      <td>41</td>\n",
       "      <td>2833</td>\n",
       "      <td>84.861011</td>\n",
       "      <td>68</td>\n",
       "      <td>Male</td>\n",
       "      <td>Ex-smoker</td>\n",
       "      <td>ID00421637202311550012437_41</td>\n",
       "    </tr>\n",
       "    <tr>\n",
       "      <th>311</th>\n",
       "      <td>ID00421637202311550012437</td>\n",
       "      <td>54</td>\n",
       "      <td>2771</td>\n",
       "      <td>83.003834</td>\n",
       "      <td>68</td>\n",
       "      <td>Male</td>\n",
       "      <td>Ex-smoker</td>\n",
       "      <td>ID00421637202311550012437_54</td>\n",
       "    </tr>\n",
       "  </tbody>\n",
       "</table>\n",
       "<p>312 rows × 8 columns</p>\n",
       "</div>"
      ],
      "text/plain": [
       "                       Patient  ...                  Patient_Week\n",
       "0    ID00023637202179104603099  ...  ID00023637202179104603099_-3\n",
       "1    ID00023637202179104603099  ...   ID00023637202179104603099_3\n",
       "2    ID00023637202179104603099  ...   ID00023637202179104603099_5\n",
       "3    ID00023637202179104603099  ...   ID00023637202179104603099_7\n",
       "4    ID00023637202179104603099  ...   ID00023637202179104603099_9\n",
       "..                         ...  ...                           ...\n",
       "307  ID00421637202311550012437  ...  ID00421637202311550012437_21\n",
       "308  ID00421637202311550012437  ...  ID00421637202311550012437_23\n",
       "309  ID00421637202311550012437  ...  ID00421637202311550012437_29\n",
       "310  ID00421637202311550012437  ...  ID00421637202311550012437_41\n",
       "311  ID00421637202311550012437  ...  ID00421637202311550012437_54\n",
       "\n",
       "[312 rows x 8 columns]"
      ]
     },
     "execution_count": 68,
     "metadata": {
      "tags": []
     },
     "output_type": "execute_result"
    }
   ],
   "source": [
    "test"
   ]
  },
  {
   "cell_type": "code",
   "execution_count": 69,
   "metadata": {
    "executionInfo": {
     "elapsed": 1417,
     "status": "ok",
     "timestamp": 1605003029340,
     "user": {
      "displayName": "vanessa tan",
      "photoUrl": "https://lh3.googleusercontent.com/a-/AOh14GjsYBYO0OWNQMe7HO_hsrjMAdQ2w1oRNqoua8nSq3o=s64",
      "userId": "01347962914235519410"
     },
     "user_tz": -480
    },
    "id": "ZG9gbMuenHgh"
   },
   "outputs": [],
   "source": [
    "s1 = pd.merge(pred_test, test, how='inner', on=['Patient_Week'])"
   ]
  },
  {
   "cell_type": "code",
   "execution_count": 70,
   "metadata": {
    "colab": {
     "base_uri": "https://localhost:8080/",
     "height": 224
    },
    "executionInfo": {
     "elapsed": 1416,
     "status": "ok",
     "timestamp": 1605003029342,
     "user": {
      "displayName": "vanessa tan",
      "photoUrl": "https://lh3.googleusercontent.com/a-/AOh14GjsYBYO0OWNQMe7HO_hsrjMAdQ2w1oRNqoua8nSq3o=s64",
      "userId": "01347962914235519410"
     },
     "user_tz": -480
    },
    "id": "wCz5-mQUnd-J",
    "outputId": "5dd19a03-c0aa-41f3-c03f-a37758b1e89c"
   },
   "outputs": [
    {
     "data": {
      "text/html": [
       "<div>\n",
       "<style scoped>\n",
       "    .dataframe tbody tr th:only-of-type {\n",
       "        vertical-align: middle;\n",
       "    }\n",
       "\n",
       "    .dataframe tbody tr th {\n",
       "        vertical-align: top;\n",
       "    }\n",
       "\n",
       "    .dataframe thead th {\n",
       "        text-align: right;\n",
       "    }\n",
       "</style>\n",
       "<table border=\"1\" class=\"dataframe\">\n",
       "  <thead>\n",
       "    <tr style=\"text-align: right;\">\n",
       "      <th></th>\n",
       "      <th>Patient_x</th>\n",
       "      <th>Weeks_x</th>\n",
       "      <th>FVC_x</th>\n",
       "      <th>Percent_x</th>\n",
       "      <th>Age_x</th>\n",
       "      <th>Sex_x</th>\n",
       "      <th>SmokingStatus_x</th>\n",
       "      <th>Patient_Week</th>\n",
       "      <th>Patient_y</th>\n",
       "      <th>Weeks_y</th>\n",
       "      <th>FVC_y</th>\n",
       "      <th>Percent_y</th>\n",
       "      <th>Age_y</th>\n",
       "      <th>Sex_y</th>\n",
       "      <th>SmokingStatus_y</th>\n",
       "    </tr>\n",
       "  </thead>\n",
       "  <tbody>\n",
       "    <tr>\n",
       "      <th>0</th>\n",
       "      <td>ID00023637202179104603099</td>\n",
       "      <td>-3</td>\n",
       "      <td>1171.565110</td>\n",
       "      <td>65.306122</td>\n",
       "      <td>71</td>\n",
       "      <td>Female</td>\n",
       "      <td>Ex-smoker</td>\n",
       "      <td>ID00023637202179104603099_-3</td>\n",
       "      <td>ID00023637202179104603099</td>\n",
       "      <td>-3</td>\n",
       "      <td>1536</td>\n",
       "      <td>65.306122</td>\n",
       "      <td>71</td>\n",
       "      <td>Female</td>\n",
       "      <td>Ex-smoker</td>\n",
       "    </tr>\n",
       "    <tr>\n",
       "      <th>1</th>\n",
       "      <td>ID00023637202179104603099</td>\n",
       "      <td>3</td>\n",
       "      <td>1071.578076</td>\n",
       "      <td>58.163265</td>\n",
       "      <td>71</td>\n",
       "      <td>Female</td>\n",
       "      <td>Ex-smoker</td>\n",
       "      <td>ID00023637202179104603099_3</td>\n",
       "      <td>ID00023637202179104603099</td>\n",
       "      <td>3</td>\n",
       "      <td>1368</td>\n",
       "      <td>58.163265</td>\n",
       "      <td>71</td>\n",
       "      <td>Female</td>\n",
       "      <td>Ex-smoker</td>\n",
       "    </tr>\n",
       "    <tr>\n",
       "      <th>2</th>\n",
       "      <td>ID00023637202179104603099</td>\n",
       "      <td>5</td>\n",
       "      <td>1062.181743</td>\n",
       "      <td>57.865646</td>\n",
       "      <td>71</td>\n",
       "      <td>Female</td>\n",
       "      <td>Ex-smoker</td>\n",
       "      <td>ID00023637202179104603099_5</td>\n",
       "      <td>ID00023637202179104603099</td>\n",
       "      <td>5</td>\n",
       "      <td>1361</td>\n",
       "      <td>57.865646</td>\n",
       "      <td>71</td>\n",
       "      <td>Female</td>\n",
       "      <td>Ex-smoker</td>\n",
       "    </tr>\n",
       "    <tr>\n",
       "      <th>3</th>\n",
       "      <td>ID00023637202179104603099</td>\n",
       "      <td>7</td>\n",
       "      <td>1107.000253</td>\n",
       "      <td>62.287415</td>\n",
       "      <td>71</td>\n",
       "      <td>Female</td>\n",
       "      <td>Ex-smoker</td>\n",
       "      <td>ID00023637202179104603099_7</td>\n",
       "      <td>ID00023637202179104603099</td>\n",
       "      <td>7</td>\n",
       "      <td>1465</td>\n",
       "      <td>62.287415</td>\n",
       "      <td>71</td>\n",
       "      <td>Female</td>\n",
       "      <td>Ex-smoker</td>\n",
       "    </tr>\n",
       "    <tr>\n",
       "      <th>4</th>\n",
       "      <td>ID00023637202179104603099</td>\n",
       "      <td>9</td>\n",
       "      <td>1206.522027</td>\n",
       "      <td>71.471088</td>\n",
       "      <td>71</td>\n",
       "      <td>Female</td>\n",
       "      <td>Ex-smoker</td>\n",
       "      <td>ID00023637202179104603099_9</td>\n",
       "      <td>ID00023637202179104603099</td>\n",
       "      <td>9</td>\n",
       "      <td>1681</td>\n",
       "      <td>71.471088</td>\n",
       "      <td>71</td>\n",
       "      <td>Female</td>\n",
       "      <td>Ex-smoker</td>\n",
       "    </tr>\n",
       "  </tbody>\n",
       "</table>\n",
       "</div>"
      ],
      "text/plain": [
       "                   Patient_x  Weeks_x  ...   Sex_y  SmokingStatus_y\n",
       "0  ID00023637202179104603099       -3  ...  Female        Ex-smoker\n",
       "1  ID00023637202179104603099        3  ...  Female        Ex-smoker\n",
       "2  ID00023637202179104603099        5  ...  Female        Ex-smoker\n",
       "3  ID00023637202179104603099        7  ...  Female        Ex-smoker\n",
       "4  ID00023637202179104603099        9  ...  Female        Ex-smoker\n",
       "\n",
       "[5 rows x 15 columns]"
      ]
     },
     "execution_count": 70,
     "metadata": {
      "tags": []
     },
     "output_type": "execute_result"
    }
   ],
   "source": [
    "s1.head()"
   ]
  },
  {
   "cell_type": "code",
   "execution_count": 71,
   "metadata": {
    "executionInfo": {
     "elapsed": 1414,
     "status": "ok",
     "timestamp": 1605003029343,
     "user": {
      "displayName": "vanessa tan",
      "photoUrl": "https://lh3.googleusercontent.com/a-/AOh14GjsYBYO0OWNQMe7HO_hsrjMAdQ2w1oRNqoua8nSq3o=s64",
      "userId": "01347962914235519410"
     },
     "user_tz": -480
    },
    "id": "P8RTSLCxniOH"
   },
   "outputs": [],
   "source": [
    "s1 = s1.rename(columns={\"FVC_y\": \"TrueFVC\", \"FVC_x\": \"PredictedFVC\"})"
   ]
  },
  {
   "cell_type": "code",
   "execution_count": 72,
   "metadata": {
    "colab": {
     "base_uri": "https://localhost:8080/"
    },
    "executionInfo": {
     "elapsed": 1412,
     "status": "ok",
     "timestamp": 1605003029345,
     "user": {
      "displayName": "vanessa tan",
      "photoUrl": "https://lh3.googleusercontent.com/a-/AOh14GjsYBYO0OWNQMe7HO_hsrjMAdQ2w1oRNqoua8nSq3o=s64",
      "userId": "01347962914235519410"
     },
     "user_tz": -480
    },
    "id": "TGpKFNvlnieu",
    "outputId": "c22542e8-5811-4be4-ada8-7f27ee135be3"
   },
   "outputs": [
    {
     "name": "stdout",
     "output_type": "stream",
     "text": [
      "513.0357584435505\n"
     ]
    }
   ],
   "source": [
    "from sklearn.metrics import mean_squared_error\n",
    "from math import sqrt\n",
    "\n",
    "y_test = s1.TrueFVC\n",
    "y_pred = s1.PredictedFVC\n",
    "\n",
    "rms = sqrt(mean_squared_error(y_pred, y_test))\n",
    "print(rms)"
   ]
  }
 ],
 "metadata": {
  "colab": {
   "authorship_tag": "ABX9TyPPyYzpT8gPqGxq0Mj86yoe",
   "name": "CS3244-OSIC-LinearReg.ipynb",
   "provenance": []
  },
  "kernelspec": {
   "display_name": "Python 3",
   "language": "python",
   "name": "python3"
  },
  "language_info": {
   "codemirror_mode": {
    "name": "ipython",
    "version": 3
   },
   "file_extension": ".py",
   "mimetype": "text/x-python",
   "name": "python",
   "nbconvert_exporter": "python",
   "pygments_lexer": "ipython3",
   "version": "3.8.3"
  }
 },
 "nbformat": 4,
 "nbformat_minor": 4
}
