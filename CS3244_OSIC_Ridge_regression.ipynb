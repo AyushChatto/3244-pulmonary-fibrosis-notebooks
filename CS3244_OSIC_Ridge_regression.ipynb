{
 "cells": [
  {
   "cell_type": "markdown",
   "metadata": {
    "papermill": {
     "duration": 0.033974,
     "end_time": "2020-10-30T15:52:33.583308",
     "exception": false,
     "start_time": "2020-10-30T15:52:33.549334",
     "status": "completed"
    },
    "tags": []
   },
   "source": [
    "# Importing Libraries"
   ]
  },
  {
   "cell_type": "code",
   "execution_count": 1,
   "metadata": {
    "_cell_guid": "b1076dfc-b9ad-4769-8c92-a6c4dae69d19",
    "_uuid": "8f2839f25d086af736a60e9eeb907d3b93b6e0e5",
    "papermill": {
     "duration": 7.864223,
     "end_time": "2020-10-30T15:52:41.480495",
     "exception": false,
     "start_time": "2020-10-30T15:52:33.616272",
     "status": "completed"
    },
    "tags": []
   },
   "outputs": [
    {
     "name": "stderr",
     "output_type": "stream",
     "text": [
      "D:\\Anaconda\\envs\\main2\\lib\\site-packages\\tensorflow\\python\\framework\\dtypes.py:516: FutureWarning: Passing (type, 1) or '1type' as a synonym of type is deprecated; in a future version of numpy, it will be understood as (type, (1,)) / '(1,)type'.\n",
      "  _np_qint8 = np.dtype([(\"qint8\", np.int8, 1)])\n",
      "D:\\Anaconda\\envs\\main2\\lib\\site-packages\\tensorflow\\python\\framework\\dtypes.py:517: FutureWarning: Passing (type, 1) or '1type' as a synonym of type is deprecated; in a future version of numpy, it will be understood as (type, (1,)) / '(1,)type'.\n",
      "  _np_quint8 = np.dtype([(\"quint8\", np.uint8, 1)])\n",
      "D:\\Anaconda\\envs\\main2\\lib\\site-packages\\tensorflow\\python\\framework\\dtypes.py:518: FutureWarning: Passing (type, 1) or '1type' as a synonym of type is deprecated; in a future version of numpy, it will be understood as (type, (1,)) / '(1,)type'.\n",
      "  _np_qint16 = np.dtype([(\"qint16\", np.int16, 1)])\n",
      "D:\\Anaconda\\envs\\main2\\lib\\site-packages\\tensorflow\\python\\framework\\dtypes.py:519: FutureWarning: Passing (type, 1) or '1type' as a synonym of type is deprecated; in a future version of numpy, it will be understood as (type, (1,)) / '(1,)type'.\n",
      "  _np_quint16 = np.dtype([(\"quint16\", np.uint16, 1)])\n",
      "D:\\Anaconda\\envs\\main2\\lib\\site-packages\\tensorflow\\python\\framework\\dtypes.py:520: FutureWarning: Passing (type, 1) or '1type' as a synonym of type is deprecated; in a future version of numpy, it will be understood as (type, (1,)) / '(1,)type'.\n",
      "  _np_qint32 = np.dtype([(\"qint32\", np.int32, 1)])\n",
      "D:\\Anaconda\\envs\\main2\\lib\\site-packages\\tensorflow\\python\\framework\\dtypes.py:525: FutureWarning: Passing (type, 1) or '1type' as a synonym of type is deprecated; in a future version of numpy, it will be understood as (type, (1,)) / '(1,)type'.\n",
      "  np_resource = np.dtype([(\"resource\", np.ubyte, 1)])\n",
      "D:\\Anaconda\\envs\\main2\\lib\\site-packages\\tensorboard\\compat\\tensorflow_stub\\dtypes.py:541: FutureWarning: Passing (type, 1) or '1type' as a synonym of type is deprecated; in a future version of numpy, it will be understood as (type, (1,)) / '(1,)type'.\n",
      "  _np_qint8 = np.dtype([(\"qint8\", np.int8, 1)])\n",
      "D:\\Anaconda\\envs\\main2\\lib\\site-packages\\tensorboard\\compat\\tensorflow_stub\\dtypes.py:542: FutureWarning: Passing (type, 1) or '1type' as a synonym of type is deprecated; in a future version of numpy, it will be understood as (type, (1,)) / '(1,)type'.\n",
      "  _np_quint8 = np.dtype([(\"quint8\", np.uint8, 1)])\n",
      "D:\\Anaconda\\envs\\main2\\lib\\site-packages\\tensorboard\\compat\\tensorflow_stub\\dtypes.py:543: FutureWarning: Passing (type, 1) or '1type' as a synonym of type is deprecated; in a future version of numpy, it will be understood as (type, (1,)) / '(1,)type'.\n",
      "  _np_qint16 = np.dtype([(\"qint16\", np.int16, 1)])\n",
      "D:\\Anaconda\\envs\\main2\\lib\\site-packages\\tensorboard\\compat\\tensorflow_stub\\dtypes.py:544: FutureWarning: Passing (type, 1) or '1type' as a synonym of type is deprecated; in a future version of numpy, it will be understood as (type, (1,)) / '(1,)type'.\n",
      "  _np_quint16 = np.dtype([(\"quint16\", np.uint16, 1)])\n",
      "D:\\Anaconda\\envs\\main2\\lib\\site-packages\\tensorboard\\compat\\tensorflow_stub\\dtypes.py:545: FutureWarning: Passing (type, 1) or '1type' as a synonym of type is deprecated; in a future version of numpy, it will be understood as (type, (1,)) / '(1,)type'.\n",
      "  _np_qint32 = np.dtype([(\"qint32\", np.int32, 1)])\n",
      "D:\\Anaconda\\envs\\main2\\lib\\site-packages\\tensorboard\\compat\\tensorflow_stub\\dtypes.py:550: FutureWarning: Passing (type, 1) or '1type' as a synonym of type is deprecated; in a future version of numpy, it will be understood as (type, (1,)) / '(1,)type'.\n",
      "  np_resource = np.dtype([(\"resource\", np.ubyte, 1)])\n"
     ]
    }
   ],
   "source": [
    "import numpy as np\n",
    "import pandas as pd\n",
    "import matplotlib.pyplot as plt\n",
    "import tensorflow as tf\n",
    "import pydicom\n",
    "from sklearn.compose import ColumnTransformer\n",
    "from sklearn.preprocessing import StandardScaler,LabelEncoder,OneHotEncoder,PowerTransformer\n",
    "from sklearn.model_selection import GroupKFold"
   ]
  },
  {
   "cell_type": "markdown",
   "metadata": {
    "papermill": {
     "duration": 0.031888,
     "end_time": "2020-10-30T15:52:41.547186",
     "exception": false,
     "start_time": "2020-10-30T15:52:41.515298",
     "status": "completed"
    },
    "tags": []
   },
   "source": [
    "# Loading the Data"
   ]
  },
  {
   "cell_type": "code",
   "execution_count": 2,
   "metadata": {
    "_cell_guid": "79c7e3d0-c299-4dcb-8224-4455121ee9b0",
    "_uuid": "d629ff2d2480ee46fbb7e2d37f6b5fab8052498a",
    "papermill": {
     "duration": 1.224684,
     "end_time": "2020-10-30T15:52:42.804123",
     "exception": false,
     "start_time": "2020-10-30T15:52:41.579439",
     "status": "completed"
    },
    "tags": []
   },
   "outputs": [
    {
     "data": {
      "text/plain": [
       "((1223, 7), (312, 7))"
      ]
     },
     "execution_count": 2,
     "metadata": {},
     "output_type": "execute_result"
    }
   ],
   "source": [
    "# main_dir = '../input/osic-pulmonary-fibrosis-progression'\n",
    "\n",
    "# train_files = tf.io.gfile.glob(main_dir+\"/train/*/*\")\n",
    "# test_files = tf.io.gfile.glob(main_dir+\"/test/*/*\")\n",
    "\n",
    "# sample_sub = pd.read_csv(main_dir+'/sample_submission.csv')\n",
    "train = pd.read_csv('Data/ourtrain.csv')\n",
    "test = pd.read_csv('Data/our_test.csv')\n",
    "# print (\"Number of train patients: {}\\nNumber of test patients: {:4}\"\n",
    "#        .format(train.Patient.nunique(), test.Patient.nunique()))\n",
    "\n",
    "# print (\"\\nTotal number of Train patient records: {}\\nTotal number of Test patient records: {:6}\"\n",
    "#        .format(len(train_files), len(test_files)))\n",
    "\n",
    "train.shape, test.shape, #sample_sub.shape"
   ]
  },
  {
   "cell_type": "markdown",
   "metadata": {
    "papermill": {
     "duration": 0.034022,
     "end_time": "2020-10-30T15:52:42.872422",
     "exception": false,
     "start_time": "2020-10-30T15:52:42.838400",
     "status": "completed"
    },
    "tags": []
   },
   "source": [
    "## Function to calculate Metrics"
   ]
  },
  {
   "cell_type": "code",
   "execution_count": 3,
   "metadata": {
    "papermill": {
     "duration": 0.058209,
     "end_time": "2020-10-30T15:52:42.965469",
     "exception": false,
     "start_time": "2020-10-30T15:52:42.907260",
     "status": "completed"
    },
    "tags": []
   },
   "outputs": [
    {
     "data": {
      "text/html": [
       "<div>\n",
       "<style scoped>\n",
       "    .dataframe tbody tr th:only-of-type {\n",
       "        vertical-align: middle;\n",
       "    }\n",
       "\n",
       "    .dataframe tbody tr th {\n",
       "        vertical-align: top;\n",
       "    }\n",
       "\n",
       "    .dataframe thead th {\n",
       "        text-align: right;\n",
       "    }\n",
       "</style>\n",
       "<table border=\"1\" class=\"dataframe\">\n",
       "  <thead>\n",
       "    <tr style=\"text-align: right;\">\n",
       "      <th></th>\n",
       "      <th>Patient</th>\n",
       "      <th>Weeks</th>\n",
       "      <th>FVC</th>\n",
       "      <th>Percent</th>\n",
       "      <th>Age</th>\n",
       "      <th>Sex</th>\n",
       "      <th>SmokingStatus</th>\n",
       "    </tr>\n",
       "  </thead>\n",
       "  <tbody>\n",
       "    <tr>\n",
       "      <th>0</th>\n",
       "      <td>ID00007637202177411956430</td>\n",
       "      <td>-4</td>\n",
       "      <td>2315</td>\n",
       "      <td>58.253649</td>\n",
       "      <td>79</td>\n",
       "      <td>Male</td>\n",
       "      <td>Ex-smoker</td>\n",
       "    </tr>\n",
       "    <tr>\n",
       "      <th>1</th>\n",
       "      <td>ID00007637202177411956430</td>\n",
       "      <td>5</td>\n",
       "      <td>2214</td>\n",
       "      <td>55.712129</td>\n",
       "      <td>79</td>\n",
       "      <td>Male</td>\n",
       "      <td>Ex-smoker</td>\n",
       "    </tr>\n",
       "    <tr>\n",
       "      <th>2</th>\n",
       "      <td>ID00007637202177411956430</td>\n",
       "      <td>7</td>\n",
       "      <td>2061</td>\n",
       "      <td>51.862104</td>\n",
       "      <td>79</td>\n",
       "      <td>Male</td>\n",
       "      <td>Ex-smoker</td>\n",
       "    </tr>\n",
       "    <tr>\n",
       "      <th>3</th>\n",
       "      <td>ID00007637202177411956430</td>\n",
       "      <td>9</td>\n",
       "      <td>2144</td>\n",
       "      <td>53.950679</td>\n",
       "      <td>79</td>\n",
       "      <td>Male</td>\n",
       "      <td>Ex-smoker</td>\n",
       "    </tr>\n",
       "    <tr>\n",
       "      <th>4</th>\n",
       "      <td>ID00007637202177411956430</td>\n",
       "      <td>11</td>\n",
       "      <td>2069</td>\n",
       "      <td>52.063412</td>\n",
       "      <td>79</td>\n",
       "      <td>Male</td>\n",
       "      <td>Ex-smoker</td>\n",
       "    </tr>\n",
       "  </tbody>\n",
       "</table>\n",
       "</div>"
      ],
      "text/plain": [
       "                     Patient  Weeks   FVC    Percent  Age   Sex SmokingStatus\n",
       "0  ID00007637202177411956430     -4  2315  58.253649   79  Male     Ex-smoker\n",
       "1  ID00007637202177411956430      5  2214  55.712129   79  Male     Ex-smoker\n",
       "2  ID00007637202177411956430      7  2061  51.862104   79  Male     Ex-smoker\n",
       "3  ID00007637202177411956430      9  2144  53.950679   79  Male     Ex-smoker\n",
       "4  ID00007637202177411956430     11  2069  52.063412   79  Male     Ex-smoker"
      ]
     },
     "execution_count": 3,
     "metadata": {},
     "output_type": "execute_result"
    }
   ],
   "source": [
    "train.head()"
   ]
  },
  {
   "cell_type": "code",
   "execution_count": 4,
   "metadata": {
    "papermill": {
     "duration": 0.041502,
     "end_time": "2020-10-30T15:52:43.041019",
     "exception": false,
     "start_time": "2020-10-30T15:52:42.999517",
     "status": "completed"
    },
    "tags": []
   },
   "outputs": [],
   "source": [
    "#the training data has the same patient fvc values, over randomized weeks. "
   ]
  },
  {
   "cell_type": "code",
   "execution_count": 5,
   "metadata": {
    "papermill": {
     "duration": 0.054496,
     "end_time": "2020-10-30T15:52:43.129858",
     "exception": false,
     "start_time": "2020-10-30T15:52:43.075362",
     "status": "completed"
    },
    "tags": []
   },
   "outputs": [
    {
     "data": {
      "text/html": [
       "<div>\n",
       "<style scoped>\n",
       "    .dataframe tbody tr th:only-of-type {\n",
       "        vertical-align: middle;\n",
       "    }\n",
       "\n",
       "    .dataframe tbody tr th {\n",
       "        vertical-align: top;\n",
       "    }\n",
       "\n",
       "    .dataframe thead th {\n",
       "        text-align: right;\n",
       "    }\n",
       "</style>\n",
       "<table border=\"1\" class=\"dataframe\">\n",
       "  <thead>\n",
       "    <tr style=\"text-align: right;\">\n",
       "      <th></th>\n",
       "      <th>Patient</th>\n",
       "      <th>Weeks</th>\n",
       "      <th>FVC</th>\n",
       "      <th>Percent</th>\n",
       "      <th>Age</th>\n",
       "      <th>Sex</th>\n",
       "      <th>SmokingStatus</th>\n",
       "    </tr>\n",
       "  </thead>\n",
       "  <tbody>\n",
       "    <tr>\n",
       "      <th>0</th>\n",
       "      <td>ID00023637202179104603099</td>\n",
       "      <td>-3</td>\n",
       "      <td>1536</td>\n",
       "      <td>65.306122</td>\n",
       "      <td>71</td>\n",
       "      <td>Female</td>\n",
       "      <td>Ex-smoker</td>\n",
       "    </tr>\n",
       "    <tr>\n",
       "      <th>1</th>\n",
       "      <td>ID00023637202179104603099</td>\n",
       "      <td>3</td>\n",
       "      <td>1368</td>\n",
       "      <td>58.163265</td>\n",
       "      <td>71</td>\n",
       "      <td>Female</td>\n",
       "      <td>Ex-smoker</td>\n",
       "    </tr>\n",
       "    <tr>\n",
       "      <th>2</th>\n",
       "      <td>ID00023637202179104603099</td>\n",
       "      <td>5</td>\n",
       "      <td>1361</td>\n",
       "      <td>57.865646</td>\n",
       "      <td>71</td>\n",
       "      <td>Female</td>\n",
       "      <td>Ex-smoker</td>\n",
       "    </tr>\n",
       "    <tr>\n",
       "      <th>3</th>\n",
       "      <td>ID00023637202179104603099</td>\n",
       "      <td>7</td>\n",
       "      <td>1465</td>\n",
       "      <td>62.287415</td>\n",
       "      <td>71</td>\n",
       "      <td>Female</td>\n",
       "      <td>Ex-smoker</td>\n",
       "    </tr>\n",
       "    <tr>\n",
       "      <th>4</th>\n",
       "      <td>ID00023637202179104603099</td>\n",
       "      <td>9</td>\n",
       "      <td>1681</td>\n",
       "      <td>71.471088</td>\n",
       "      <td>71</td>\n",
       "      <td>Female</td>\n",
       "      <td>Ex-smoker</td>\n",
       "    </tr>\n",
       "    <tr>\n",
       "      <th>...</th>\n",
       "      <td>...</td>\n",
       "      <td>...</td>\n",
       "      <td>...</td>\n",
       "      <td>...</td>\n",
       "      <td>...</td>\n",
       "      <td>...</td>\n",
       "      <td>...</td>\n",
       "    </tr>\n",
       "    <tr>\n",
       "      <th>307</th>\n",
       "      <td>ID00421637202311550012437</td>\n",
       "      <td>21</td>\n",
       "      <td>2820</td>\n",
       "      <td>84.471603</td>\n",
       "      <td>68</td>\n",
       "      <td>Male</td>\n",
       "      <td>Ex-smoker</td>\n",
       "    </tr>\n",
       "    <tr>\n",
       "      <th>308</th>\n",
       "      <td>ID00421637202311550012437</td>\n",
       "      <td>23</td>\n",
       "      <td>2853</td>\n",
       "      <td>85.460101</td>\n",
       "      <td>68</td>\n",
       "      <td>Male</td>\n",
       "      <td>Ex-smoker</td>\n",
       "    </tr>\n",
       "    <tr>\n",
       "      <th>309</th>\n",
       "      <td>ID00421637202311550012437</td>\n",
       "      <td>29</td>\n",
       "      <td>2716</td>\n",
       "      <td>81.356338</td>\n",
       "      <td>68</td>\n",
       "      <td>Male</td>\n",
       "      <td>Ex-smoker</td>\n",
       "    </tr>\n",
       "    <tr>\n",
       "      <th>310</th>\n",
       "      <td>ID00421637202311550012437</td>\n",
       "      <td>41</td>\n",
       "      <td>2833</td>\n",
       "      <td>84.861011</td>\n",
       "      <td>68</td>\n",
       "      <td>Male</td>\n",
       "      <td>Ex-smoker</td>\n",
       "    </tr>\n",
       "    <tr>\n",
       "      <th>311</th>\n",
       "      <td>ID00421637202311550012437</td>\n",
       "      <td>54</td>\n",
       "      <td>2771</td>\n",
       "      <td>83.003834</td>\n",
       "      <td>68</td>\n",
       "      <td>Male</td>\n",
       "      <td>Ex-smoker</td>\n",
       "    </tr>\n",
       "  </tbody>\n",
       "</table>\n",
       "<p>312 rows × 7 columns</p>\n",
       "</div>"
      ],
      "text/plain": [
       "                       Patient  Weeks   FVC    Percent  Age     Sex  \\\n",
       "0    ID00023637202179104603099     -3  1536  65.306122   71  Female   \n",
       "1    ID00023637202179104603099      3  1368  58.163265   71  Female   \n",
       "2    ID00023637202179104603099      5  1361  57.865646   71  Female   \n",
       "3    ID00023637202179104603099      7  1465  62.287415   71  Female   \n",
       "4    ID00023637202179104603099      9  1681  71.471088   71  Female   \n",
       "..                         ...    ...   ...        ...  ...     ...   \n",
       "307  ID00421637202311550012437     21  2820  84.471603   68    Male   \n",
       "308  ID00421637202311550012437     23  2853  85.460101   68    Male   \n",
       "309  ID00421637202311550012437     29  2716  81.356338   68    Male   \n",
       "310  ID00421637202311550012437     41  2833  84.861011   68    Male   \n",
       "311  ID00421637202311550012437     54  2771  83.003834   68    Male   \n",
       "\n",
       "    SmokingStatus  \n",
       "0       Ex-smoker  \n",
       "1       Ex-smoker  \n",
       "2       Ex-smoker  \n",
       "3       Ex-smoker  \n",
       "4       Ex-smoker  \n",
       "..            ...  \n",
       "307     Ex-smoker  \n",
       "308     Ex-smoker  \n",
       "309     Ex-smoker  \n",
       "310     Ex-smoker  \n",
       "311     Ex-smoker  \n",
       "\n",
       "[312 rows x 7 columns]"
      ]
     },
     "execution_count": 5,
     "metadata": {},
     "output_type": "execute_result"
    }
   ],
   "source": [
    "test"
   ]
  },
  {
   "cell_type": "code",
   "execution_count": 6,
   "metadata": {
    "papermill": {
     "duration": 0.042305,
     "end_time": "2020-10-30T15:52:43.212421",
     "exception": false,
     "start_time": "2020-10-30T15:52:43.170116",
     "status": "completed"
    },
    "tags": []
   },
   "outputs": [],
   "source": [
    "#the test data would show the fvc value for a particular week.\n",
    "#we have to predict the final three fvc value, and confidence. \n",
    "#note: the test entries are also in the training set. "
   ]
  },
  {
   "cell_type": "code",
   "execution_count": 7,
   "metadata": {
    "papermill": {
     "duration": 0.09596,
     "end_time": "2020-10-30T15:52:43.343690",
     "exception": false,
     "start_time": "2020-10-30T15:52:43.247730",
     "status": "completed"
    },
    "tags": []
   },
   "outputs": [],
   "source": [
    "# Using Weeks, Age, Sex and Smoking Status columns from train data\n",
    "X = train[['Weeks','Age','Sex','SmokingStatus']].copy()\n",
    "y = train['FVC'].copy()\n",
    "\n",
    "# save the stats for future use\n",
    "stats = X.describe().T\n",
    "\n",
    "# One hot encoding on Sex and SmokingStatus columns\n",
    "#pd.get_dummies - assign numerical value to these categorical inputs. \n",
    "X = pd.get_dummies(X, columns =['Sex','SmokingStatus'],drop_first=True)\n",
    "\n",
    "#Scaling numeric features \n",
    "# scaling the numeric features\n",
    "for col in ['Weeks', 'Age']:\n",
    "    X[col] = (X[col] - stats.loc[col, 'min']) / (stats.loc[col, 'max'] - stats.loc[col, 'min'])"
   ]
  },
  {
   "cell_type": "code",
   "execution_count": 8,
   "metadata": {
    "papermill": {
     "duration": 0.052304,
     "end_time": "2020-10-30T15:52:43.431332",
     "exception": false,
     "start_time": "2020-10-30T15:52:43.379028",
     "status": "completed"
    },
    "tags": []
   },
   "outputs": [
    {
     "data": {
      "text/html": [
       "<div>\n",
       "<style scoped>\n",
       "    .dataframe tbody tr th:only-of-type {\n",
       "        vertical-align: middle;\n",
       "    }\n",
       "\n",
       "    .dataframe tbody tr th {\n",
       "        vertical-align: top;\n",
       "    }\n",
       "\n",
       "    .dataframe thead th {\n",
       "        text-align: right;\n",
       "    }\n",
       "</style>\n",
       "<table border=\"1\" class=\"dataframe\">\n",
       "  <thead>\n",
       "    <tr style=\"text-align: right;\">\n",
       "      <th></th>\n",
       "      <th>Weeks</th>\n",
       "      <th>Age</th>\n",
       "      <th>Sex_Male</th>\n",
       "      <th>SmokingStatus_Ex-smoker</th>\n",
       "      <th>SmokingStatus_Never smoked</th>\n",
       "    </tr>\n",
       "  </thead>\n",
       "  <tbody>\n",
       "    <tr>\n",
       "      <th>0</th>\n",
       "      <td>0.007246</td>\n",
       "      <td>0.789474</td>\n",
       "      <td>1</td>\n",
       "      <td>1</td>\n",
       "      <td>0</td>\n",
       "    </tr>\n",
       "    <tr>\n",
       "      <th>1</th>\n",
       "      <td>0.072464</td>\n",
       "      <td>0.789474</td>\n",
       "      <td>1</td>\n",
       "      <td>1</td>\n",
       "      <td>0</td>\n",
       "    </tr>\n",
       "    <tr>\n",
       "      <th>2</th>\n",
       "      <td>0.086957</td>\n",
       "      <td>0.789474</td>\n",
       "      <td>1</td>\n",
       "      <td>1</td>\n",
       "      <td>0</td>\n",
       "    </tr>\n",
       "    <tr>\n",
       "      <th>3</th>\n",
       "      <td>0.101449</td>\n",
       "      <td>0.789474</td>\n",
       "      <td>1</td>\n",
       "      <td>1</td>\n",
       "      <td>0</td>\n",
       "    </tr>\n",
       "    <tr>\n",
       "      <th>4</th>\n",
       "      <td>0.115942</td>\n",
       "      <td>0.789474</td>\n",
       "      <td>1</td>\n",
       "      <td>1</td>\n",
       "      <td>0</td>\n",
       "    </tr>\n",
       "  </tbody>\n",
       "</table>\n",
       "</div>"
      ],
      "text/plain": [
       "      Weeks       Age  Sex_Male  SmokingStatus_Ex-smoker  \\\n",
       "0  0.007246  0.789474         1                        1   \n",
       "1  0.072464  0.789474         1                        1   \n",
       "2  0.086957  0.789474         1                        1   \n",
       "3  0.101449  0.789474         1                        1   \n",
       "4  0.115942  0.789474         1                        1   \n",
       "\n",
       "   SmokingStatus_Never smoked  \n",
       "0                           0  \n",
       "1                           0  \n",
       "2                           0  \n",
       "3                           0  \n",
       "4                           0  "
      ]
     },
     "execution_count": 8,
     "metadata": {},
     "output_type": "execute_result"
    }
   ],
   "source": [
    "X.head()"
   ]
  },
  {
   "cell_type": "code",
   "execution_count": 9,
   "metadata": {
    "papermill": {
     "duration": 0.181048,
     "end_time": "2020-10-30T15:52:43.648864",
     "exception": false,
     "start_time": "2020-10-30T15:52:43.467816",
     "status": "completed"
    },
    "tags": []
   },
   "outputs": [],
   "source": [
    "from sklearn.model_selection import cross_val_score\n",
    "from sklearn.linear_model import LinearRegression, Ridge,RidgeCV, Lasso\n",
    "from sklearn.metrics import make_scorer\n"
   ]
  },
  {
   "cell_type": "code",
   "execution_count": 10,
   "metadata": {
    "papermill": {
     "duration": 0.044453,
     "end_time": "2020-10-30T15:52:43.729787",
     "exception": false,
     "start_time": "2020-10-30T15:52:43.685334",
     "status": "completed"
    },
    "tags": []
   },
   "outputs": [],
   "source": [
    "sigma = 250"
   ]
  },
  {
   "cell_type": "code",
   "execution_count": 11,
   "metadata": {
    "papermill": {
     "duration": 0.049183,
     "end_time": "2020-10-30T15:52:43.815408",
     "exception": false,
     "start_time": "2020-10-30T15:52:43.766225",
     "status": "completed"
    },
    "tags": []
   },
   "outputs": [],
   "source": [
    "def laplace_log_likelihood(y_true, y_pred, sigma=70):\n",
    "    # values smaller than 70 are clipped\n",
    "    sigma_clipped = tf.maximum(sigma, 70)\n",
    "\n",
    "    # errors greater than 1000 are clipped\n",
    "    delta_clipped = tf.minimum(tf.abs(y_true - y_pred), 1000)\n",
    "    \n",
    "    # type cast them suitably\n",
    "    delta_clipped = tf.cast(delta_clipped, dtype=tf.float32)\n",
    "    sigma_clipped = tf.cast(sigma_clipped, dtype=tf.float32)\n",
    "    \n",
    "    # score function\n",
    "    score = - tf.sqrt(2.0) * delta_clipped / sigma_clipped - tf.math.log(tf.sqrt(2.0) * sigma_clipped)\n",
    "    \n",
    "    return tf.reduce_mean(score)"
   ]
  },
  {
   "cell_type": "code",
   "execution_count": 12,
   "metadata": {
    "papermill": {
     "duration": 0.294119,
     "end_time": "2020-10-30T15:52:44.146206",
     "exception": false,
     "start_time": "2020-10-30T15:52:43.852087",
     "status": "completed"
    },
    "tags": []
   },
   "outputs": [],
   "source": [
    "# # Creating a scorer function, returns a callable that scores an estimator’s output.\n",
    "# l1 = (make_scorer(\n",
    "#     lambda X,y : laplace_log_likelihood(X,y,sigma=sigma).numpy(),\n",
    "#     greater_is_better=False))\n",
    "\n",
    "# cross_val_score(LinearRegression(),X,y,cv=3,scoring=l1)\n",
    "# #returns array of scores of the estimator for each run of the cross validation.\n"
   ]
  },
  {
   "cell_type": "code",
   "execution_count": 13,
   "metadata": {
    "papermill": {
     "duration": 0.045612,
     "end_time": "2020-10-30T15:52:44.230341",
     "exception": false,
     "start_time": "2020-10-30T15:52:44.184729",
     "status": "completed"
    },
    "tags": []
   },
   "outputs": [],
   "source": [
    "#scores increases after each run of cross validation. \n",
    "#this is the scoring of the linear regression estimator. "
   ]
  },
  {
   "cell_type": "code",
   "execution_count": 14,
   "metadata": {
    "papermill": {
     "duration": 0.100457,
     "end_time": "2020-10-30T15:52:44.368409",
     "exception": false,
     "start_time": "2020-10-30T15:52:44.267952",
     "status": "completed"
    },
    "tags": []
   },
   "outputs": [
    {
     "name": "stdout",
     "output_type": "stream",
     "text": [
      "base_FVC                      0.962155\n",
      "Percent                       0.663128\n",
      "Sex_Male                      0.483409\n",
      "SmokingStatus_Never smoked    0.183468\n",
      "Age                           0.149372\n",
      "SmokingStatus_Ex-smoker       0.119985\n",
      "Weeks                         0.023979\n",
      "base_week                     0.006648\n",
      "Name: FVC, dtype: float64\n"
     ]
    }
   ],
   "source": [
    "X = train.copy()\n",
    "y = train['FVC'].copy()\n",
    "\n",
    "X['base_week'] = X.groupby('Patient')['Weeks'].transform('min')\n",
    "X['base_FVC'] = X.groupby('Patient')['FVC'].transform('first')\n",
    "\n",
    "# save the stats for future use\n",
    "stats = X.describe().T\n",
    "\n",
    "# one hot encoding for categorical features\n",
    "X = pd.get_dummies(data=X, columns=['Sex','SmokingStatus'], drop_first=True)\n",
    "\n",
    "# Scaling numeric columns\n",
    "num_cols = ['Age','Weeks','base_week','base_FVC']\n",
    "\n",
    "# Min-max scaling\n",
    "for col in num_cols:\n",
    "    X[col] = (X[col]-stats.loc[col,'min']) / (stats.loc[col,'max'] - stats.loc[col,'min'])\n",
    "    \n",
    "# printing the correlation of all features with FVC\n",
    "print(X.corr()['FVC'].abs().sort_values(ascending=False)[1:])"
   ]
  },
  {
   "cell_type": "code",
   "execution_count": 15,
   "metadata": {
    "papermill": {
     "duration": 0.061504,
     "end_time": "2020-10-30T15:52:44.468078",
     "exception": false,
     "start_time": "2020-10-30T15:52:44.406574",
     "status": "completed"
    },
    "tags": []
   },
   "outputs": [
    {
     "data": {
      "text/html": [
       "<div>\n",
       "<style scoped>\n",
       "    .dataframe tbody tr th:only-of-type {\n",
       "        vertical-align: middle;\n",
       "    }\n",
       "\n",
       "    .dataframe tbody tr th {\n",
       "        vertical-align: top;\n",
       "    }\n",
       "\n",
       "    .dataframe thead th {\n",
       "        text-align: right;\n",
       "    }\n",
       "</style>\n",
       "<table border=\"1\" class=\"dataframe\">\n",
       "  <thead>\n",
       "    <tr style=\"text-align: right;\">\n",
       "      <th></th>\n",
       "      <th>Weeks</th>\n",
       "      <th>Percent</th>\n",
       "      <th>Age</th>\n",
       "      <th>base_week</th>\n",
       "      <th>base_FVC</th>\n",
       "      <th>Sex_Male</th>\n",
       "      <th>SmokingStatus_Ex-smoker</th>\n",
       "      <th>SmokingStatus_Never smoked</th>\n",
       "    </tr>\n",
       "  </thead>\n",
       "  <tbody>\n",
       "    <tr>\n",
       "      <th>0</th>\n",
       "      <td>0.007246</td>\n",
       "      <td>58.253649</td>\n",
       "      <td>0.789474</td>\n",
       "      <td>0.011905</td>\n",
       "      <td>0.241456</td>\n",
       "      <td>1</td>\n",
       "      <td>1</td>\n",
       "      <td>0</td>\n",
       "    </tr>\n",
       "    <tr>\n",
       "      <th>1</th>\n",
       "      <td>0.072464</td>\n",
       "      <td>55.712129</td>\n",
       "      <td>0.789474</td>\n",
       "      <td>0.011905</td>\n",
       "      <td>0.241456</td>\n",
       "      <td>1</td>\n",
       "      <td>1</td>\n",
       "      <td>0</td>\n",
       "    </tr>\n",
       "    <tr>\n",
       "      <th>2</th>\n",
       "      <td>0.086957</td>\n",
       "      <td>51.862104</td>\n",
       "      <td>0.789474</td>\n",
       "      <td>0.011905</td>\n",
       "      <td>0.241456</td>\n",
       "      <td>1</td>\n",
       "      <td>1</td>\n",
       "      <td>0</td>\n",
       "    </tr>\n",
       "    <tr>\n",
       "      <th>3</th>\n",
       "      <td>0.101449</td>\n",
       "      <td>53.950679</td>\n",
       "      <td>0.789474</td>\n",
       "      <td>0.011905</td>\n",
       "      <td>0.241456</td>\n",
       "      <td>1</td>\n",
       "      <td>1</td>\n",
       "      <td>0</td>\n",
       "    </tr>\n",
       "    <tr>\n",
       "      <th>4</th>\n",
       "      <td>0.115942</td>\n",
       "      <td>52.063412</td>\n",
       "      <td>0.789474</td>\n",
       "      <td>0.011905</td>\n",
       "      <td>0.241456</td>\n",
       "      <td>1</td>\n",
       "      <td>1</td>\n",
       "      <td>0</td>\n",
       "    </tr>\n",
       "  </tbody>\n",
       "</table>\n",
       "</div>"
      ],
      "text/plain": [
       "      Weeks    Percent       Age  base_week  base_FVC  Sex_Male  \\\n",
       "0  0.007246  58.253649  0.789474   0.011905  0.241456         1   \n",
       "1  0.072464  55.712129  0.789474   0.011905  0.241456         1   \n",
       "2  0.086957  51.862104  0.789474   0.011905  0.241456         1   \n",
       "3  0.101449  53.950679  0.789474   0.011905  0.241456         1   \n",
       "4  0.115942  52.063412  0.789474   0.011905  0.241456         1   \n",
       "\n",
       "   SmokingStatus_Ex-smoker  SmokingStatus_Never smoked  \n",
       "0                        1                           0  \n",
       "1                        1                           0  \n",
       "2                        1                           0  \n",
       "3                        1                           0  \n",
       "4                        1                           0  "
      ]
     },
     "execution_count": 15,
     "metadata": {},
     "output_type": "execute_result"
    }
   ],
   "source": [
    "# removing unnecesary columns after transformations\n",
    "#drop patient, as we are building a model based on our values \n",
    "X.drop(['Patient','FVC'], axis=1, inplace=True)\n",
    "X.head()"
   ]
  },
  {
   "cell_type": "code",
   "execution_count": 16,
   "metadata": {
    "papermill": {
     "duration": 0.049312,
     "end_time": "2020-10-30T15:52:44.556074",
     "exception": false,
     "start_time": "2020-10-30T15:52:44.506762",
     "status": "completed"
    },
    "tags": []
   },
   "outputs": [
    {
     "data": {
      "text/plain": [
       "0    2315\n",
       "1    2214\n",
       "2    2061\n",
       "3    2144\n",
       "4    2069\n",
       "Name: FVC, dtype: int64"
      ]
     },
     "execution_count": 16,
     "metadata": {},
     "output_type": "execute_result"
    }
   ],
   "source": [
    "y.head()"
   ]
  },
  {
   "cell_type": "code",
   "execution_count": 17,
   "metadata": {
    "papermill": {
     "duration": 0.073181,
     "end_time": "2020-10-30T15:52:44.668718",
     "exception": false,
     "start_time": "2020-10-30T15:52:44.595537",
     "status": "completed"
    },
    "tags": []
   },
   "outputs": [
    {
     "data": {
      "text/plain": [
       "array([-178.66715958, -191.27543824, -196.99707731])"
      ]
     },
     "execution_count": 17,
     "metadata": {},
     "output_type": "execute_result"
    }
   ],
   "source": [
    "# Checking the score on transformed data nowla\n",
    "cross_val_score(LinearRegression(),X,y,cv=3,scoring='neg_root_mean_squared_error')"
   ]
  },
  {
   "cell_type": "markdown",
   "metadata": {
    "papermill": {
     "duration": 0.039791,
     "end_time": "2020-10-30T15:52:44.753995",
     "exception": false,
     "start_time": "2020-10-30T15:52:44.714204",
     "status": "completed"
    },
    "tags": []
   },
   "source": [
    "As we can see, the fold scores have improved significantly. Lets fit the Linear model on this data."
   ]
  },
  {
   "cell_type": "markdown",
   "metadata": {
    "papermill": {
     "duration": 0.040214,
     "end_time": "2020-10-30T15:52:44.930844",
     "exception": false,
     "start_time": "2020-10-30T15:52:44.890630",
     "status": "completed"
    },
    "tags": []
   },
   "source": [
    "### Making Prediction on Test Data"
   ]
  },
  {
   "cell_type": "markdown",
   "metadata": {},
   "source": [
    "Dataframe y"
   ]
  },
  {
   "cell_type": "markdown",
   "metadata": {},
   "source": [
    "Series y"
   ]
  },
  {
   "cell_type": "markdown",
   "metadata": {},
   "source": [
    "## Grid Search Time"
   ]
  },
  {
   "cell_type": "code",
   "execution_count": 18,
   "metadata": {
    "papermill": {
     "duration": 6.015793,
     "end_time": "2020-10-30T15:52:53.430078",
     "exception": false,
     "start_time": "2020-10-30T15:52:47.414285",
     "status": "completed"
    },
    "tags": []
   },
   "outputs": [
    {
     "name": "stdout",
     "output_type": "stream",
     "text": [
      "{'alpha': 0.0} 0.946869413341806\n",
      "Ridge(alpha=0.0)\n"
     ]
    }
   ],
   "source": [
    "from sklearn.feature_selection import SelectKBest, f_regression\n",
    "from sklearn.pipeline import Pipeline\n",
    "from sklearn.model_selection import GridSearchCV\n",
    "\n",
    "grid_params = {\"alpha\": np.linspace(0,0.001,11)}\n",
    "\n",
    "\n",
    "\n",
    "grid = GridSearchCV(Ridge(), param_grid=grid_params, n_jobs=-1, cv=3,return_train_score= True)\n",
    "grid.fit(X,y)\n",
    "\n",
    "print (grid.best_params_, grid.best_score_)\n",
    "#print(model.get_params_(deep=True))\n",
    "model = grid.best_estimator_\n",
    "print(grid.best_estimator_)"
   ]
  },
  {
   "cell_type": "markdown",
   "metadata": {},
   "source": [
    "Test with inbuilt cv "
   ]
  },
  {
   "cell_type": "code",
   "execution_count": 19,
   "metadata": {},
   "outputs": [
    {
     "data": {
      "text/plain": [
       "0.9564521394568773"
      ]
     },
     "execution_count": 19,
     "metadata": {},
     "output_type": "execute_result"
    }
   ],
   "source": [
    "clf = RidgeCV(alphas=[1e-3, 1e-2, 1e-1, 1]).fit(X, y)\n",
    "clf.score(X, y)\n",
    "#clf.alpha_"
   ]
  },
  {
   "cell_type": "code",
   "execution_count": 20,
   "metadata": {},
   "outputs": [
    {
     "data": {
      "text/plain": [
       "{'mean_fit_time': array([0.01199794, 0.00400122, 0.00500027, 0.00300018, 0.00366735,\n",
       "        0.00400138, 0.00400146, 0.0043335 , 0.00400122, 0.00333325,\n",
       "        0.00266751]),\n",
       " 'std_fit_time': array([5.35826704e-03, 8.16729406e-04, 1.41439212e-03, 7.86741172e-07,\n",
       "        9.43920945e-04, 8.17313425e-04, 8.16049002e-04, 1.24853094e-03,\n",
       "        1.41439212e-03, 4.72269527e-04, 4.71595499e-04]),\n",
       " 'mean_score_time': array([0.00299907, 0.00233348, 0.00199938, 0.00199978, 0.00199954,\n",
       "        0.00266703, 0.00333277, 0.00166631, 0.00199914, 0.00200065,\n",
       "        0.00233229]),\n",
       " 'std_score_time': array([1.41562843e-03, 4.71989320e-04, 3.37174788e-07, 8.17313966e-04,\n",
       "        9.98958356e-07, 9.42684557e-04, 4.71427042e-04, 4.72044743e-04,\n",
       "        8.48537942e-07, 8.16145448e-04, 4.72494631e-04]),\n",
       " 'param_alpha': masked_array(data=[0.0, 0.0001, 0.0002, 0.00030000000000000003, 0.0004,\n",
       "                    0.0005, 0.0006000000000000001, 0.0007, 0.0008,\n",
       "                    0.0009000000000000001, 0.001],\n",
       "              mask=[False, False, False, False, False, False, False, False,\n",
       "                    False, False, False],\n",
       "        fill_value='?',\n",
       "             dtype=object),\n",
       " 'params': [{'alpha': 0.0},\n",
       "  {'alpha': 0.0001},\n",
       "  {'alpha': 0.0002},\n",
       "  {'alpha': 0.00030000000000000003},\n",
       "  {'alpha': 0.0004},\n",
       "  {'alpha': 0.0005},\n",
       "  {'alpha': 0.0006000000000000001},\n",
       "  {'alpha': 0.0007},\n",
       "  {'alpha': 0.0008},\n",
       "  {'alpha': 0.0009000000000000001},\n",
       "  {'alpha': 0.001}],\n",
       " 'split0_test_score': array([0.94311443, 0.94311431, 0.94311418, 0.94311406, 0.94311393,\n",
       "        0.9431138 , 0.94311368, 0.94311355, 0.94311343, 0.9431133 ,\n",
       "        0.94311317]),\n",
       " 'split1_test_score': array([0.96056327, 0.96056336, 0.96056344, 0.96056352, 0.96056361,\n",
       "        0.96056369, 0.96056377, 0.96056386, 0.96056394, 0.96056402,\n",
       "        0.9605641 ]),\n",
       " 'split2_test_score': array([0.93693053, 0.93692962, 0.93692872, 0.93692781, 0.9369269 ,\n",
       "        0.93692599, 0.93692508, 0.93692417, 0.93692326, 0.93692236,\n",
       "        0.93692145]),\n",
       " 'mean_test_score': array([0.94686941, 0.9468691 , 0.94686878, 0.94686846, 0.94686815,\n",
       "        0.94686783, 0.94686751, 0.94686719, 0.94686688, 0.94686656,\n",
       "        0.94686624]),\n",
       " 'std_test_score': array([0.01000672, 0.01000707, 0.01000742, 0.01000778, 0.01000813,\n",
       "        0.01000849, 0.01000884, 0.0100092 , 0.01000955, 0.01000991,\n",
       "        0.01001026]),\n",
       " 'rank_test_score': array([ 1,  2,  3,  4,  5,  6,  7,  8,  9, 10, 11]),\n",
       " 'split0_train_score': array([0.9602892 , 0.9602892 , 0.9602892 , 0.9602892 , 0.9602892 ,\n",
       "        0.9602892 , 0.9602892 , 0.9602892 , 0.9602892 , 0.9602892 ,\n",
       "        0.96028919]),\n",
       " 'split1_train_score': array([0.95120771, 0.95120771, 0.95120771, 0.95120771, 0.95120771,\n",
       "        0.95120771, 0.95120771, 0.95120771, 0.9512077 , 0.9512077 ,\n",
       "        0.9512077 ]),\n",
       " 'split2_train_score': array([0.96037105, 0.96037105, 0.96037105, 0.96037105, 0.96037105,\n",
       "        0.96037105, 0.96037105, 0.96037105, 0.96037105, 0.96037104,\n",
       "        0.96037104]),\n",
       " 'mean_train_score': array([0.95728932, 0.95728932, 0.95728932, 0.95728932, 0.95728932,\n",
       "        0.95728932, 0.95728932, 0.95728932, 0.95728932, 0.95728931,\n",
       "        0.95728931]),\n",
       " 'std_train_score': array([0.00430048, 0.00430048, 0.00430048, 0.00430048, 0.00430048,\n",
       "        0.00430048, 0.00430048, 0.00430048, 0.00430048, 0.00430048,\n",
       "        0.00430048])}"
      ]
     },
     "execution_count": 20,
     "metadata": {},
     "output_type": "execute_result"
    }
   ],
   "source": [
    "grid.cv_results_"
   ]
  },
  {
   "cell_type": "code",
   "execution_count": 21,
   "metadata": {},
   "outputs": [],
   "source": [
    "\n",
    "grid_results = pd.DataFrame.from_dict(grid.cv_results_)\n",
    "grid_results.to_csv('grid_results.csv',index=False)"
   ]
  },
  {
   "cell_type": "markdown",
   "metadata": {},
   "source": [
    "Using Cross val score to plot "
   ]
  },
  {
   "cell_type": "code",
   "execution_count": 22,
   "metadata": {
    "papermill": {
     "duration": 1.123234,
     "end_time": "2020-10-30T15:52:54.603484",
     "exception": false,
     "start_time": "2020-10-30T15:52:53.480250",
     "status": "completed"
    },
    "tags": []
   },
   "outputs": [
    {
     "data": {
      "text/plain": [
       "(50, -188.97989170853975, 7.657180570151024)"
      ]
     },
     "execution_count": 22,
     "metadata": {},
     "output_type": "execute_result"
    }
   ],
   "source": [
    "best_score = (0, np.inf, np.inf)\n",
    "for i in range(50, 1500, 50):\n",
    "    sigma=i\n",
    "    temp = cross_val_score(model, X, y, cv=3, scoring='neg_root_mean_squared_error')\n",
    "    if best_score[1] > temp.mean():\n",
    "        best_score = i, temp.mean(), temp.std()\n",
    "        \n",
    "sigma = best_score[0]\n",
    "best_score"
   ]
  },
  {
   "cell_type": "markdown",
   "metadata": {},
   "source": [
    "Taken from week 6 notebook "
   ]
  },
  {
   "cell_type": "code",
   "execution_count": 23,
   "metadata": {},
   "outputs": [
    {
     "name": "stdout",
     "output_type": "stream",
     "text": [
      "Ridge: -200.321386946722\n",
      "Lasso: -189.35788843225995\n"
     ]
    }
   ],
   "source": [
    "for Model in [Ridge, Lasso]:\n",
    "    model = Model()\n",
    "    print('%s: %s' % (Model.__name__,\n",
    "                      cross_val_score(model, X, y, cv=3, scoring='neg_root_mean_squared_error').mean()))"
   ]
  },
  {
   "cell_type": "markdown",
   "metadata": {},
   "source": [
    "Plots"
   ]
  },
  {
   "cell_type": "code",
   "execution_count": 24,
   "metadata": {},
   "outputs": [
    {
     "data": {
      "image/png": "[encoded data removed]",
      "text/plain": [
       "<Figure size 360x216 with 1 Axes>"
      ]
     },
     "metadata": {
      "needs_background": "light"
     },
     "output_type": "display_data"
    },
    {
     "data": {
      "text/plain": [
       "<Figure size 432x288 with 0 Axes>"
      ]
     },
     "metadata": {},
     "output_type": "display_data"
    }
   ],
   "source": [
    "alphas = np.logspace(-3, 0, 100)\n",
    "\n",
    "plt.figure(figsize=(5, 3))\n",
    "\n",
    "for Model in [Lasso, Ridge]:\n",
    "    scores = [cross_val_score(Model(alpha), X, y, cv=3,scoring='neg_root_mean_squared_error').mean()\n",
    "            for alpha in alphas]\n",
    "    plt.plot(alphas, scores, label=Model.__name__)\n",
    "\n",
    "plt.legend(loc='lower left')\n",
    "plt.xlabel('alpha')\n",
    "plt.ylabel('cross validation score')\n",
    "plt.suptitle('Ridge and Lasso Regression on training data')\n",
    "plt.tight_layout()\n",
    "plt.show()\n",
    "plt.savefig('ruffles.png')"
   ]
  },
  {
   "cell_type": "markdown",
   "metadata": {},
   "source": [
    "## Test Data Preparation"
   ]
  },
  {
   "cell_type": "code",
   "execution_count": 25,
   "metadata": {},
   "outputs": [],
   "source": [
    "X_test = test.copy()\n",
    "y_test = test['FVC'].copy()\n",
    "\n",
    "X_test['base_week'] = X_test.groupby('Patient')['Weeks'].transform('min')\n",
    "X_test['base_FVC'] = X_test.groupby('Patient')['FVC'].transform('first')\n",
    "\n",
    "# save the stats for future use\n",
    "stats = X_test.describe().T\n",
    "\n",
    "# one hot encoding for categorical features\n",
    "X_test = pd.get_dummies(data=X_test, columns=['Sex','SmokingStatus'], drop_first=True)\n",
    "\n",
    "# Scaling numeric columns\n",
    "num_cols = ['Age','Weeks','base_week','base_FVC']\n",
    "\n",
    "# Min-max scaling\n",
    "for col in num_cols:\n",
    "    X_test[col] = (X_test[col]-stats.loc[col,'min']) / (stats.loc[col,'max'] - stats.loc[col,'min'])\n",
    "\n"
   ]
  },
  {
   "cell_type": "code",
   "execution_count": 26,
   "metadata": {},
   "outputs": [
    {
     "data": {
      "text/html": [
       "<div>\n",
       "<style scoped>\n",
       "    .dataframe tbody tr th:only-of-type {\n",
       "        vertical-align: middle;\n",
       "    }\n",
       "\n",
       "    .dataframe tbody tr th {\n",
       "        vertical-align: top;\n",
       "    }\n",
       "\n",
       "    .dataframe thead th {\n",
       "        text-align: right;\n",
       "    }\n",
       "</style>\n",
       "<table border=\"1\" class=\"dataframe\">\n",
       "  <thead>\n",
       "    <tr style=\"text-align: right;\">\n",
       "      <th></th>\n",
       "      <th>Weeks</th>\n",
       "      <th>Percent</th>\n",
       "      <th>Age</th>\n",
       "      <th>base_week</th>\n",
       "      <th>base_FVC</th>\n",
       "      <th>Sex_Male</th>\n",
       "      <th>SmokingStatus_Ex-smoker</th>\n",
       "      <th>SmokingStatus_Never smoked</th>\n",
       "    </tr>\n",
       "  </thead>\n",
       "  <tbody>\n",
       "    <tr>\n",
       "      <th>0</th>\n",
       "      <td>0.009434</td>\n",
       "      <td>65.306122</td>\n",
       "      <td>0.540541</td>\n",
       "      <td>0.019231</td>\n",
       "      <td>0.044037</td>\n",
       "      <td>0</td>\n",
       "      <td>1</td>\n",
       "      <td>0</td>\n",
       "    </tr>\n",
       "    <tr>\n",
       "      <th>1</th>\n",
       "      <td>0.066038</td>\n",
       "      <td>58.163265</td>\n",
       "      <td>0.540541</td>\n",
       "      <td>0.019231</td>\n",
       "      <td>0.044037</td>\n",
       "      <td>0</td>\n",
       "      <td>1</td>\n",
       "      <td>0</td>\n",
       "    </tr>\n",
       "    <tr>\n",
       "      <th>2</th>\n",
       "      <td>0.084906</td>\n",
       "      <td>57.865646</td>\n",
       "      <td>0.540541</td>\n",
       "      <td>0.019231</td>\n",
       "      <td>0.044037</td>\n",
       "      <td>0</td>\n",
       "      <td>1</td>\n",
       "      <td>0</td>\n",
       "    </tr>\n",
       "    <tr>\n",
       "      <th>3</th>\n",
       "      <td>0.103774</td>\n",
       "      <td>62.287415</td>\n",
       "      <td>0.540541</td>\n",
       "      <td>0.019231</td>\n",
       "      <td>0.044037</td>\n",
       "      <td>0</td>\n",
       "      <td>1</td>\n",
       "      <td>0</td>\n",
       "    </tr>\n",
       "    <tr>\n",
       "      <th>4</th>\n",
       "      <td>0.122642</td>\n",
       "      <td>71.471088</td>\n",
       "      <td>0.540541</td>\n",
       "      <td>0.019231</td>\n",
       "      <td>0.044037</td>\n",
       "      <td>0</td>\n",
       "      <td>1</td>\n",
       "      <td>0</td>\n",
       "    </tr>\n",
       "  </tbody>\n",
       "</table>\n",
       "</div>"
      ],
      "text/plain": [
       "      Weeks    Percent       Age  base_week  base_FVC  Sex_Male  \\\n",
       "0  0.009434  65.306122  0.540541   0.019231  0.044037         0   \n",
       "1  0.066038  58.163265  0.540541   0.019231  0.044037         0   \n",
       "2  0.084906  57.865646  0.540541   0.019231  0.044037         0   \n",
       "3  0.103774  62.287415  0.540541   0.019231  0.044037         0   \n",
       "4  0.122642  71.471088  0.540541   0.019231  0.044037         0   \n",
       "\n",
       "   SmokingStatus_Ex-smoker  SmokingStatus_Never smoked  \n",
       "0                        1                           0  \n",
       "1                        1                           0  \n",
       "2                        1                           0  \n",
       "3                        1                           0  \n",
       "4                        1                           0  "
      ]
     },
     "execution_count": 26,
     "metadata": {},
     "output_type": "execute_result"
    }
   ],
   "source": [
    "X_test.drop(['Patient','FVC'], axis=1, inplace=True)\n",
    "X_test.head()"
   ]
  },
  {
   "cell_type": "markdown",
   "metadata": {},
   "source": [
    "## Model training from here"
   ]
  },
  {
   "cell_type": "code",
   "execution_count": 27,
   "metadata": {
    "papermill": {
     "duration": 0.084251,
     "end_time": "2020-10-30T15:52:54.865486",
     "exception": false,
     "start_time": "2020-10-30T15:52:54.781235",
     "status": "completed"
    },
    "tags": []
   },
   "outputs": [],
   "source": [
    "# linear reg\n",
    "# lr = LinearRegression().fit(X, y)\n",
    "# lr.predict(X)\n",
    "\n",
    "# pred_test = test.copy()\n",
    "# pred_test['FVC'] = lr.predict(X_test) # predicted FVC here\n",
    "\n",
    "# ridge reg \n",
    "ruffles = Ridge(alpha = 0.1)\n",
    "ruffles.fit(X,y)\n",
    "#grid seach model\n",
    "# pred_test = test.copy()\n",
    "# pred_test['FVC'] = grid.predict(X_test)\n",
    "pred_test = test.copy()\n",
    "pred_test['FVC'] = ruffles.predict(X_test)"
   ]
  },
  {
   "cell_type": "code",
   "execution_count": 28,
   "metadata": {},
   "outputs": [
    {
     "data": {
      "text/html": [
       "<div>\n",
       "<style scoped>\n",
       "    .dataframe tbody tr th:only-of-type {\n",
       "        vertical-align: middle;\n",
       "    }\n",
       "\n",
       "    .dataframe tbody tr th {\n",
       "        vertical-align: top;\n",
       "    }\n",
       "\n",
       "    .dataframe thead th {\n",
       "        text-align: right;\n",
       "    }\n",
       "</style>\n",
       "<table border=\"1\" class=\"dataframe\">\n",
       "  <thead>\n",
       "    <tr style=\"text-align: right;\">\n",
       "      <th></th>\n",
       "      <th>Patient</th>\n",
       "      <th>Weeks</th>\n",
       "      <th>FVC</th>\n",
       "      <th>Percent</th>\n",
       "      <th>Age</th>\n",
       "      <th>Sex</th>\n",
       "      <th>SmokingStatus</th>\n",
       "    </tr>\n",
       "  </thead>\n",
       "  <tbody>\n",
       "    <tr>\n",
       "      <th>0</th>\n",
       "      <td>ID00023637202179104603099</td>\n",
       "      <td>-3</td>\n",
       "      <td>1172.144646</td>\n",
       "      <td>65.306122</td>\n",
       "      <td>71</td>\n",
       "      <td>Female</td>\n",
       "      <td>Ex-smoker</td>\n",
       "    </tr>\n",
       "    <tr>\n",
       "      <th>1</th>\n",
       "      <td>ID00023637202179104603099</td>\n",
       "      <td>3</td>\n",
       "      <td>1070.530750</td>\n",
       "      <td>58.163265</td>\n",
       "      <td>71</td>\n",
       "      <td>Female</td>\n",
       "      <td>Ex-smoker</td>\n",
       "    </tr>\n",
       "    <tr>\n",
       "      <th>2</th>\n",
       "      <td>ID00023637202179104603099</td>\n",
       "      <td>5</td>\n",
       "      <td>1061.193595</td>\n",
       "      <td>57.865646</td>\n",
       "      <td>71</td>\n",
       "      <td>Female</td>\n",
       "      <td>Ex-smoker</td>\n",
       "    </tr>\n",
       "    <tr>\n",
       "      <th>3</th>\n",
       "      <td>ID00023637202179104603099</td>\n",
       "      <td>7</td>\n",
       "      <td>1107.433787</td>\n",
       "      <td>62.287415</td>\n",
       "      <td>71</td>\n",
       "      <td>Female</td>\n",
       "      <td>Ex-smoker</td>\n",
       "    </tr>\n",
       "    <tr>\n",
       "      <th>4</th>\n",
       "      <td>ID00023637202179104603099</td>\n",
       "      <td>9</td>\n",
       "      <td>1209.752023</td>\n",
       "      <td>71.471088</td>\n",
       "      <td>71</td>\n",
       "      <td>Female</td>\n",
       "      <td>Ex-smoker</td>\n",
       "    </tr>\n",
       "    <tr>\n",
       "      <th>...</th>\n",
       "      <td>...</td>\n",
       "      <td>...</td>\n",
       "      <td>...</td>\n",
       "      <td>...</td>\n",
       "      <td>...</td>\n",
       "      <td>...</td>\n",
       "      <td>...</td>\n",
       "    </tr>\n",
       "    <tr>\n",
       "      <th>307</th>\n",
       "      <td>ID00421637202311550012437</td>\n",
       "      <td>21</td>\n",
       "      <td>3271.961292</td>\n",
       "      <td>84.471603</td>\n",
       "      <td>68</td>\n",
       "      <td>Male</td>\n",
       "      <td>Ex-smoker</td>\n",
       "    </tr>\n",
       "    <tr>\n",
       "      <th>308</th>\n",
       "      <td>ID00421637202311550012437</td>\n",
       "      <td>23</td>\n",
       "      <td>3277.769946</td>\n",
       "      <td>85.460101</td>\n",
       "      <td>68</td>\n",
       "      <td>Male</td>\n",
       "      <td>Ex-smoker</td>\n",
       "    </tr>\n",
       "    <tr>\n",
       "      <th>309</th>\n",
       "      <td>ID00421637202311550012437</td>\n",
       "      <td>29</td>\n",
       "      <td>3211.945614</td>\n",
       "      <td>81.356338</td>\n",
       "      <td>68</td>\n",
       "      <td>Male</td>\n",
       "      <td>Ex-smoker</td>\n",
       "    </tr>\n",
       "    <tr>\n",
       "      <th>310</th>\n",
       "      <td>ID00421637202311550012437</td>\n",
       "      <td>41</td>\n",
       "      <td>3218.224343</td>\n",
       "      <td>84.861011</td>\n",
       "      <td>68</td>\n",
       "      <td>Male</td>\n",
       "      <td>Ex-smoker</td>\n",
       "    </tr>\n",
       "    <tr>\n",
       "      <th>311</th>\n",
       "      <td>ID00421637202311550012437</td>\n",
       "      <td>54</td>\n",
       "      <td>3158.443702</td>\n",
       "      <td>83.003834</td>\n",
       "      <td>68</td>\n",
       "      <td>Male</td>\n",
       "      <td>Ex-smoker</td>\n",
       "    </tr>\n",
       "  </tbody>\n",
       "</table>\n",
       "<p>312 rows × 7 columns</p>\n",
       "</div>"
      ],
      "text/plain": [
       "                       Patient  Weeks          FVC    Percent  Age     Sex  \\\n",
       "0    ID00023637202179104603099     -3  1172.144646  65.306122   71  Female   \n",
       "1    ID00023637202179104603099      3  1070.530750  58.163265   71  Female   \n",
       "2    ID00023637202179104603099      5  1061.193595  57.865646   71  Female   \n",
       "3    ID00023637202179104603099      7  1107.433787  62.287415   71  Female   \n",
       "4    ID00023637202179104603099      9  1209.752023  71.471088   71  Female   \n",
       "..                         ...    ...          ...        ...  ...     ...   \n",
       "307  ID00421637202311550012437     21  3271.961292  84.471603   68    Male   \n",
       "308  ID00421637202311550012437     23  3277.769946  85.460101   68    Male   \n",
       "309  ID00421637202311550012437     29  3211.945614  81.356338   68    Male   \n",
       "310  ID00421637202311550012437     41  3218.224343  84.861011   68    Male   \n",
       "311  ID00421637202311550012437     54  3158.443702  83.003834   68    Male   \n",
       "\n",
       "    SmokingStatus  \n",
       "0       Ex-smoker  \n",
       "1       Ex-smoker  \n",
       "2       Ex-smoker  \n",
       "3       Ex-smoker  \n",
       "4       Ex-smoker  \n",
       "..            ...  \n",
       "307     Ex-smoker  \n",
       "308     Ex-smoker  \n",
       "309     Ex-smoker  \n",
       "310     Ex-smoker  \n",
       "311     Ex-smoker  \n",
       "\n",
       "[312 rows x 7 columns]"
      ]
     },
     "execution_count": 28,
     "metadata": {},
     "output_type": "execute_result"
    }
   ],
   "source": [
    "pred_test"
   ]
  },
  {
   "cell_type": "code",
   "execution_count": 29,
   "metadata": {},
   "outputs": [],
   "source": [
    "pred_test['Patient_Week'] = pred_test.Patient + \"_\" + pred_test.Weeks.astype(str)"
   ]
  },
  {
   "cell_type": "code",
   "execution_count": 30,
   "metadata": {},
   "outputs": [
    {
     "data": {
      "text/plain": [
       "(312, 8)"
      ]
     },
     "execution_count": 30,
     "metadata": {},
     "output_type": "execute_result"
    }
   ],
   "source": [
    "X_test.shape"
   ]
  },
  {
   "cell_type": "code",
   "execution_count": 31,
   "metadata": {
    "papermill": {
     "duration": 0.376188,
     "end_time": "2020-10-30T15:52:55.295825",
     "exception": false,
     "start_time": "2020-10-30T15:52:54.919637",
     "status": "completed"
    },
    "tags": []
   },
   "outputs": [],
   "source": [
    "# # LR submission\n",
    "# sub['Confidence'] = best_score[0]\n",
    "# sub[['Patient_Week', 'FVC', 'Confidence']].to_csv(\"submission.csv\", index=False)"
   ]
  },
  {
   "cell_type": "code",
   "execution_count": 32,
   "metadata": {
    "papermill": {
     "duration": 0.073594,
     "end_time": "2020-10-30T15:52:55.421709",
     "exception": false,
     "start_time": "2020-10-30T15:52:55.348115",
     "status": "completed"
    },
    "tags": []
   },
   "outputs": [
    {
     "data": {
      "text/plain": [
       "(312, 7)"
      ]
     },
     "execution_count": 32,
     "metadata": {},
     "output_type": "execute_result"
    }
   ],
   "source": [
    "test.shape"
   ]
  },
  {
   "cell_type": "code",
   "execution_count": 33,
   "metadata": {},
   "outputs": [],
   "source": [
    "test['Patient_Week'] = test.Patient + \"_\" + test.Weeks.astype(str)\n"
   ]
  },
  {
   "cell_type": "code",
   "execution_count": 34,
   "metadata": {},
   "outputs": [
    {
     "data": {
      "text/html": [
       "<div>\n",
       "<style scoped>\n",
       "    .dataframe tbody tr th:only-of-type {\n",
       "        vertical-align: middle;\n",
       "    }\n",
       "\n",
       "    .dataframe tbody tr th {\n",
       "        vertical-align: top;\n",
       "    }\n",
       "\n",
       "    .dataframe thead th {\n",
       "        text-align: right;\n",
       "    }\n",
       "</style>\n",
       "<table border=\"1\" class=\"dataframe\">\n",
       "  <thead>\n",
       "    <tr style=\"text-align: right;\">\n",
       "      <th></th>\n",
       "      <th>Patient</th>\n",
       "      <th>Weeks</th>\n",
       "      <th>FVC</th>\n",
       "      <th>Percent</th>\n",
       "      <th>Age</th>\n",
       "      <th>Sex</th>\n",
       "      <th>SmokingStatus</th>\n",
       "      <th>Patient_Week</th>\n",
       "    </tr>\n",
       "  </thead>\n",
       "  <tbody>\n",
       "    <tr>\n",
       "      <th>0</th>\n",
       "      <td>ID00023637202179104603099</td>\n",
       "      <td>-3</td>\n",
       "      <td>1536</td>\n",
       "      <td>65.306122</td>\n",
       "      <td>71</td>\n",
       "      <td>Female</td>\n",
       "      <td>Ex-smoker</td>\n",
       "      <td>ID00023637202179104603099_-3</td>\n",
       "    </tr>\n",
       "    <tr>\n",
       "      <th>1</th>\n",
       "      <td>ID00023637202179104603099</td>\n",
       "      <td>3</td>\n",
       "      <td>1368</td>\n",
       "      <td>58.163265</td>\n",
       "      <td>71</td>\n",
       "      <td>Female</td>\n",
       "      <td>Ex-smoker</td>\n",
       "      <td>ID00023637202179104603099_3</td>\n",
       "    </tr>\n",
       "    <tr>\n",
       "      <th>2</th>\n",
       "      <td>ID00023637202179104603099</td>\n",
       "      <td>5</td>\n",
       "      <td>1361</td>\n",
       "      <td>57.865646</td>\n",
       "      <td>71</td>\n",
       "      <td>Female</td>\n",
       "      <td>Ex-smoker</td>\n",
       "      <td>ID00023637202179104603099_5</td>\n",
       "    </tr>\n",
       "    <tr>\n",
       "      <th>3</th>\n",
       "      <td>ID00023637202179104603099</td>\n",
       "      <td>7</td>\n",
       "      <td>1465</td>\n",
       "      <td>62.287415</td>\n",
       "      <td>71</td>\n",
       "      <td>Female</td>\n",
       "      <td>Ex-smoker</td>\n",
       "      <td>ID00023637202179104603099_7</td>\n",
       "    </tr>\n",
       "    <tr>\n",
       "      <th>4</th>\n",
       "      <td>ID00023637202179104603099</td>\n",
       "      <td>9</td>\n",
       "      <td>1681</td>\n",
       "      <td>71.471088</td>\n",
       "      <td>71</td>\n",
       "      <td>Female</td>\n",
       "      <td>Ex-smoker</td>\n",
       "      <td>ID00023637202179104603099_9</td>\n",
       "    </tr>\n",
       "  </tbody>\n",
       "</table>\n",
       "</div>"
      ],
      "text/plain": [
       "                     Patient  Weeks   FVC    Percent  Age     Sex  \\\n",
       "0  ID00023637202179104603099     -3  1536  65.306122   71  Female   \n",
       "1  ID00023637202179104603099      3  1368  58.163265   71  Female   \n",
       "2  ID00023637202179104603099      5  1361  57.865646   71  Female   \n",
       "3  ID00023637202179104603099      7  1465  62.287415   71  Female   \n",
       "4  ID00023637202179104603099      9  1681  71.471088   71  Female   \n",
       "\n",
       "  SmokingStatus                  Patient_Week  \n",
       "0     Ex-smoker  ID00023637202179104603099_-3  \n",
       "1     Ex-smoker   ID00023637202179104603099_3  \n",
       "2     Ex-smoker   ID00023637202179104603099_5  \n",
       "3     Ex-smoker   ID00023637202179104603099_7  \n",
       "4     Ex-smoker   ID00023637202179104603099_9  "
      ]
     },
     "execution_count": 34,
     "metadata": {},
     "output_type": "execute_result"
    }
   ],
   "source": [
    "test.head()"
   ]
  },
  {
   "cell_type": "code",
   "execution_count": 35,
   "metadata": {
    "papermill": {
     "duration": 0.079595,
     "end_time": "2020-10-30T15:52:55.554018",
     "exception": false,
     "start_time": "2020-10-30T15:52:55.474423",
     "status": "completed"
    },
    "tags": []
   },
   "outputs": [
    {
     "data": {
      "text/html": [
       "<div>\n",
       "<style scoped>\n",
       "    .dataframe tbody tr th:only-of-type {\n",
       "        vertical-align: middle;\n",
       "    }\n",
       "\n",
       "    .dataframe tbody tr th {\n",
       "        vertical-align: top;\n",
       "    }\n",
       "\n",
       "    .dataframe thead th {\n",
       "        text-align: right;\n",
       "    }\n",
       "</style>\n",
       "<table border=\"1\" class=\"dataframe\">\n",
       "  <thead>\n",
       "    <tr style=\"text-align: right;\">\n",
       "      <th></th>\n",
       "      <th>Patient</th>\n",
       "      <th>Weeks</th>\n",
       "      <th>FVC</th>\n",
       "      <th>Percent</th>\n",
       "      <th>Age</th>\n",
       "      <th>Sex</th>\n",
       "      <th>SmokingStatus</th>\n",
       "      <th>Patient_Week</th>\n",
       "    </tr>\n",
       "  </thead>\n",
       "  <tbody>\n",
       "    <tr>\n",
       "      <th>0</th>\n",
       "      <td>ID00023637202179104603099</td>\n",
       "      <td>-3</td>\n",
       "      <td>1536</td>\n",
       "      <td>65.306122</td>\n",
       "      <td>71</td>\n",
       "      <td>Female</td>\n",
       "      <td>Ex-smoker</td>\n",
       "      <td>ID00023637202179104603099_-3</td>\n",
       "    </tr>\n",
       "    <tr>\n",
       "      <th>1</th>\n",
       "      <td>ID00023637202179104603099</td>\n",
       "      <td>3</td>\n",
       "      <td>1368</td>\n",
       "      <td>58.163265</td>\n",
       "      <td>71</td>\n",
       "      <td>Female</td>\n",
       "      <td>Ex-smoker</td>\n",
       "      <td>ID00023637202179104603099_3</td>\n",
       "    </tr>\n",
       "    <tr>\n",
       "      <th>2</th>\n",
       "      <td>ID00023637202179104603099</td>\n",
       "      <td>5</td>\n",
       "      <td>1361</td>\n",
       "      <td>57.865646</td>\n",
       "      <td>71</td>\n",
       "      <td>Female</td>\n",
       "      <td>Ex-smoker</td>\n",
       "      <td>ID00023637202179104603099_5</td>\n",
       "    </tr>\n",
       "    <tr>\n",
       "      <th>3</th>\n",
       "      <td>ID00023637202179104603099</td>\n",
       "      <td>7</td>\n",
       "      <td>1465</td>\n",
       "      <td>62.287415</td>\n",
       "      <td>71</td>\n",
       "      <td>Female</td>\n",
       "      <td>Ex-smoker</td>\n",
       "      <td>ID00023637202179104603099_7</td>\n",
       "    </tr>\n",
       "    <tr>\n",
       "      <th>4</th>\n",
       "      <td>ID00023637202179104603099</td>\n",
       "      <td>9</td>\n",
       "      <td>1681</td>\n",
       "      <td>71.471088</td>\n",
       "      <td>71</td>\n",
       "      <td>Female</td>\n",
       "      <td>Ex-smoker</td>\n",
       "      <td>ID00023637202179104603099_9</td>\n",
       "    </tr>\n",
       "  </tbody>\n",
       "</table>\n",
       "</div>"
      ],
      "text/plain": [
       "                     Patient  Weeks   FVC    Percent  Age     Sex  \\\n",
       "0  ID00023637202179104603099     -3  1536  65.306122   71  Female   \n",
       "1  ID00023637202179104603099      3  1368  58.163265   71  Female   \n",
       "2  ID00023637202179104603099      5  1361  57.865646   71  Female   \n",
       "3  ID00023637202179104603099      7  1465  62.287415   71  Female   \n",
       "4  ID00023637202179104603099      9  1681  71.471088   71  Female   \n",
       "\n",
       "  SmokingStatus                  Patient_Week  \n",
       "0     Ex-smoker  ID00023637202179104603099_-3  \n",
       "1     Ex-smoker   ID00023637202179104603099_3  \n",
       "2     Ex-smoker   ID00023637202179104603099_5  \n",
       "3     Ex-smoker   ID00023637202179104603099_7  \n",
       "4     Ex-smoker   ID00023637202179104603099_9  "
      ]
     },
     "execution_count": 35,
     "metadata": {},
     "output_type": "execute_result"
    }
   ],
   "source": [
    "testt = test.copy()\n",
    "\n",
    "#testt = testt[['Patient', 'Weeks', 'Sex', 'SmokingStatus', 'FVC']]\n",
    "#testt['Confidence'] = 200\n",
    "testt['Patient_Week'] = testt.Patient + \"_\" + testt.Weeks.astype(str)\n",
    "#testt['from_sub'] = ''\n",
    "testt.head()"
   ]
  },
  {
   "cell_type": "code",
   "execution_count": 36,
   "metadata": {},
   "outputs": [],
   "source": [
    "testt['FVC'] = pred_test['FVC']"
   ]
  },
  {
   "cell_type": "code",
   "execution_count": 37,
   "metadata": {},
   "outputs": [
    {
     "data": {
      "text/html": [
       "<div>\n",
       "<style scoped>\n",
       "    .dataframe tbody tr th:only-of-type {\n",
       "        vertical-align: middle;\n",
       "    }\n",
       "\n",
       "    .dataframe tbody tr th {\n",
       "        vertical-align: top;\n",
       "    }\n",
       "\n",
       "    .dataframe thead th {\n",
       "        text-align: right;\n",
       "    }\n",
       "</style>\n",
       "<table border=\"1\" class=\"dataframe\">\n",
       "  <thead>\n",
       "    <tr style=\"text-align: right;\">\n",
       "      <th></th>\n",
       "      <th>Patient</th>\n",
       "      <th>Weeks</th>\n",
       "      <th>FVC</th>\n",
       "      <th>Percent</th>\n",
       "      <th>Age</th>\n",
       "      <th>Sex</th>\n",
       "      <th>SmokingStatus</th>\n",
       "      <th>Patient_Week</th>\n",
       "    </tr>\n",
       "  </thead>\n",
       "  <tbody>\n",
       "    <tr>\n",
       "      <th>0</th>\n",
       "      <td>ID00023637202179104603099</td>\n",
       "      <td>-3</td>\n",
       "      <td>1172.144646</td>\n",
       "      <td>65.306122</td>\n",
       "      <td>71</td>\n",
       "      <td>Female</td>\n",
       "      <td>Ex-smoker</td>\n",
       "      <td>ID00023637202179104603099_-3</td>\n",
       "    </tr>\n",
       "    <tr>\n",
       "      <th>1</th>\n",
       "      <td>ID00023637202179104603099</td>\n",
       "      <td>3</td>\n",
       "      <td>1070.530750</td>\n",
       "      <td>58.163265</td>\n",
       "      <td>71</td>\n",
       "      <td>Female</td>\n",
       "      <td>Ex-smoker</td>\n",
       "      <td>ID00023637202179104603099_3</td>\n",
       "    </tr>\n",
       "    <tr>\n",
       "      <th>2</th>\n",
       "      <td>ID00023637202179104603099</td>\n",
       "      <td>5</td>\n",
       "      <td>1061.193595</td>\n",
       "      <td>57.865646</td>\n",
       "      <td>71</td>\n",
       "      <td>Female</td>\n",
       "      <td>Ex-smoker</td>\n",
       "      <td>ID00023637202179104603099_5</td>\n",
       "    </tr>\n",
       "    <tr>\n",
       "      <th>3</th>\n",
       "      <td>ID00023637202179104603099</td>\n",
       "      <td>7</td>\n",
       "      <td>1107.433787</td>\n",
       "      <td>62.287415</td>\n",
       "      <td>71</td>\n",
       "      <td>Female</td>\n",
       "      <td>Ex-smoker</td>\n",
       "      <td>ID00023637202179104603099_7</td>\n",
       "    </tr>\n",
       "    <tr>\n",
       "      <th>4</th>\n",
       "      <td>ID00023637202179104603099</td>\n",
       "      <td>9</td>\n",
       "      <td>1209.752023</td>\n",
       "      <td>71.471088</td>\n",
       "      <td>71</td>\n",
       "      <td>Female</td>\n",
       "      <td>Ex-smoker</td>\n",
       "      <td>ID00023637202179104603099_9</td>\n",
       "    </tr>\n",
       "  </tbody>\n",
       "</table>\n",
       "</div>"
      ],
      "text/plain": [
       "                     Patient  Weeks          FVC    Percent  Age     Sex  \\\n",
       "0  ID00023637202179104603099     -3  1172.144646  65.306122   71  Female   \n",
       "1  ID00023637202179104603099      3  1070.530750  58.163265   71  Female   \n",
       "2  ID00023637202179104603099      5  1061.193595  57.865646   71  Female   \n",
       "3  ID00023637202179104603099      7  1107.433787  62.287415   71  Female   \n",
       "4  ID00023637202179104603099      9  1209.752023  71.471088   71  Female   \n",
       "\n",
       "  SmokingStatus                  Patient_Week  \n",
       "0     Ex-smoker  ID00023637202179104603099_-3  \n",
       "1     Ex-smoker   ID00023637202179104603099_3  \n",
       "2     Ex-smoker   ID00023637202179104603099_5  \n",
       "3     Ex-smoker   ID00023637202179104603099_7  \n",
       "4     Ex-smoker   ID00023637202179104603099_9  "
      ]
     },
     "execution_count": 37,
     "metadata": {},
     "output_type": "execute_result"
    }
   ],
   "source": [
    "pred_test.head()"
   ]
  },
  {
   "cell_type": "code",
   "execution_count": 38,
   "metadata": {
    "papermill": {
     "duration": 0.084781,
     "end_time": "2020-10-30T15:52:55.820967",
     "exception": false,
     "start_time": "2020-10-30T15:52:55.736186",
     "status": "completed"
    },
    "tags": []
   },
   "outputs": [],
   "source": [
    "s1 = pd.merge(testt, test, how='inner', on=['Patient_Week'])\n",
    "\n",
    "# s1.drop(['from_sub','Patient_y','Weeks_y', 'Sex_y', 'SmokingStatus_y'], axis=1, inplace=True)\n",
    "# s1.drop(['Confidence_x', 'Patient_Week', 'Confidence_y' ], axis=1, inplace=True)\n",
    "# s1.head()"
   ]
  },
  {
   "cell_type": "code",
   "execution_count": 39,
   "metadata": {},
   "outputs": [
    {
     "data": {
      "text/html": [
       "<div>\n",
       "<style scoped>\n",
       "    .dataframe tbody tr th:only-of-type {\n",
       "        vertical-align: middle;\n",
       "    }\n",
       "\n",
       "    .dataframe tbody tr th {\n",
       "        vertical-align: top;\n",
       "    }\n",
       "\n",
       "    .dataframe thead th {\n",
       "        text-align: right;\n",
       "    }\n",
       "</style>\n",
       "<table border=\"1\" class=\"dataframe\">\n",
       "  <thead>\n",
       "    <tr style=\"text-align: right;\">\n",
       "      <th></th>\n",
       "      <th>Patient</th>\n",
       "      <th>Weeks</th>\n",
       "      <th>FVC</th>\n",
       "      <th>Percent</th>\n",
       "      <th>Age</th>\n",
       "      <th>Sex</th>\n",
       "      <th>SmokingStatus</th>\n",
       "      <th>Patient_Week</th>\n",
       "    </tr>\n",
       "  </thead>\n",
       "  <tbody>\n",
       "    <tr>\n",
       "      <th>0</th>\n",
       "      <td>ID00023637202179104603099</td>\n",
       "      <td>-3</td>\n",
       "      <td>1536</td>\n",
       "      <td>65.306122</td>\n",
       "      <td>71</td>\n",
       "      <td>Female</td>\n",
       "      <td>Ex-smoker</td>\n",
       "      <td>ID00023637202179104603099_-3</td>\n",
       "    </tr>\n",
       "    <tr>\n",
       "      <th>1</th>\n",
       "      <td>ID00023637202179104603099</td>\n",
       "      <td>3</td>\n",
       "      <td>1368</td>\n",
       "      <td>58.163265</td>\n",
       "      <td>71</td>\n",
       "      <td>Female</td>\n",
       "      <td>Ex-smoker</td>\n",
       "      <td>ID00023637202179104603099_3</td>\n",
       "    </tr>\n",
       "    <tr>\n",
       "      <th>2</th>\n",
       "      <td>ID00023637202179104603099</td>\n",
       "      <td>5</td>\n",
       "      <td>1361</td>\n",
       "      <td>57.865646</td>\n",
       "      <td>71</td>\n",
       "      <td>Female</td>\n",
       "      <td>Ex-smoker</td>\n",
       "      <td>ID00023637202179104603099_5</td>\n",
       "    </tr>\n",
       "    <tr>\n",
       "      <th>3</th>\n",
       "      <td>ID00023637202179104603099</td>\n",
       "      <td>7</td>\n",
       "      <td>1465</td>\n",
       "      <td>62.287415</td>\n",
       "      <td>71</td>\n",
       "      <td>Female</td>\n",
       "      <td>Ex-smoker</td>\n",
       "      <td>ID00023637202179104603099_7</td>\n",
       "    </tr>\n",
       "    <tr>\n",
       "      <th>4</th>\n",
       "      <td>ID00023637202179104603099</td>\n",
       "      <td>9</td>\n",
       "      <td>1681</td>\n",
       "      <td>71.471088</td>\n",
       "      <td>71</td>\n",
       "      <td>Female</td>\n",
       "      <td>Ex-smoker</td>\n",
       "      <td>ID00023637202179104603099_9</td>\n",
       "    </tr>\n",
       "    <tr>\n",
       "      <th>...</th>\n",
       "      <td>...</td>\n",
       "      <td>...</td>\n",
       "      <td>...</td>\n",
       "      <td>...</td>\n",
       "      <td>...</td>\n",
       "      <td>...</td>\n",
       "      <td>...</td>\n",
       "      <td>...</td>\n",
       "    </tr>\n",
       "    <tr>\n",
       "      <th>307</th>\n",
       "      <td>ID00421637202311550012437</td>\n",
       "      <td>21</td>\n",
       "      <td>2820</td>\n",
       "      <td>84.471603</td>\n",
       "      <td>68</td>\n",
       "      <td>Male</td>\n",
       "      <td>Ex-smoker</td>\n",
       "      <td>ID00421637202311550012437_21</td>\n",
       "    </tr>\n",
       "    <tr>\n",
       "      <th>308</th>\n",
       "      <td>ID00421637202311550012437</td>\n",
       "      <td>23</td>\n",
       "      <td>2853</td>\n",
       "      <td>85.460101</td>\n",
       "      <td>68</td>\n",
       "      <td>Male</td>\n",
       "      <td>Ex-smoker</td>\n",
       "      <td>ID00421637202311550012437_23</td>\n",
       "    </tr>\n",
       "    <tr>\n",
       "      <th>309</th>\n",
       "      <td>ID00421637202311550012437</td>\n",
       "      <td>29</td>\n",
       "      <td>2716</td>\n",
       "      <td>81.356338</td>\n",
       "      <td>68</td>\n",
       "      <td>Male</td>\n",
       "      <td>Ex-smoker</td>\n",
       "      <td>ID00421637202311550012437_29</td>\n",
       "    </tr>\n",
       "    <tr>\n",
       "      <th>310</th>\n",
       "      <td>ID00421637202311550012437</td>\n",
       "      <td>41</td>\n",
       "      <td>2833</td>\n",
       "      <td>84.861011</td>\n",
       "      <td>68</td>\n",
       "      <td>Male</td>\n",
       "      <td>Ex-smoker</td>\n",
       "      <td>ID00421637202311550012437_41</td>\n",
       "    </tr>\n",
       "    <tr>\n",
       "      <th>311</th>\n",
       "      <td>ID00421637202311550012437</td>\n",
       "      <td>54</td>\n",
       "      <td>2771</td>\n",
       "      <td>83.003834</td>\n",
       "      <td>68</td>\n",
       "      <td>Male</td>\n",
       "      <td>Ex-smoker</td>\n",
       "      <td>ID00421637202311550012437_54</td>\n",
       "    </tr>\n",
       "  </tbody>\n",
       "</table>\n",
       "<p>312 rows × 8 columns</p>\n",
       "</div>"
      ],
      "text/plain": [
       "                       Patient  Weeks   FVC    Percent  Age     Sex  \\\n",
       "0    ID00023637202179104603099     -3  1536  65.306122   71  Female   \n",
       "1    ID00023637202179104603099      3  1368  58.163265   71  Female   \n",
       "2    ID00023637202179104603099      5  1361  57.865646   71  Female   \n",
       "3    ID00023637202179104603099      7  1465  62.287415   71  Female   \n",
       "4    ID00023637202179104603099      9  1681  71.471088   71  Female   \n",
       "..                         ...    ...   ...        ...  ...     ...   \n",
       "307  ID00421637202311550012437     21  2820  84.471603   68    Male   \n",
       "308  ID00421637202311550012437     23  2853  85.460101   68    Male   \n",
       "309  ID00421637202311550012437     29  2716  81.356338   68    Male   \n",
       "310  ID00421637202311550012437     41  2833  84.861011   68    Male   \n",
       "311  ID00421637202311550012437     54  2771  83.003834   68    Male   \n",
       "\n",
       "    SmokingStatus                  Patient_Week  \n",
       "0       Ex-smoker  ID00023637202179104603099_-3  \n",
       "1       Ex-smoker   ID00023637202179104603099_3  \n",
       "2       Ex-smoker   ID00023637202179104603099_5  \n",
       "3       Ex-smoker   ID00023637202179104603099_7  \n",
       "4       Ex-smoker   ID00023637202179104603099_9  \n",
       "..            ...                           ...  \n",
       "307     Ex-smoker  ID00421637202311550012437_21  \n",
       "308     Ex-smoker  ID00421637202311550012437_23  \n",
       "309     Ex-smoker  ID00421637202311550012437_29  \n",
       "310     Ex-smoker  ID00421637202311550012437_41  \n",
       "311     Ex-smoker  ID00421637202311550012437_54  \n",
       "\n",
       "[312 rows x 8 columns]"
      ]
     },
     "execution_count": 39,
     "metadata": {},
     "output_type": "execute_result"
    }
   ],
   "source": [
    "test"
   ]
  },
  {
   "cell_type": "code",
   "execution_count": 40,
   "metadata": {},
   "outputs": [
    {
     "data": {
      "text/html": [
       "<div>\n",
       "<style scoped>\n",
       "    .dataframe tbody tr th:only-of-type {\n",
       "        vertical-align: middle;\n",
       "    }\n",
       "\n",
       "    .dataframe tbody tr th {\n",
       "        vertical-align: top;\n",
       "    }\n",
       "\n",
       "    .dataframe thead th {\n",
       "        text-align: right;\n",
       "    }\n",
       "</style>\n",
       "<table border=\"1\" class=\"dataframe\">\n",
       "  <thead>\n",
       "    <tr style=\"text-align: right;\">\n",
       "      <th></th>\n",
       "      <th>Patient_x</th>\n",
       "      <th>Weeks_x</th>\n",
       "      <th>FVC_x</th>\n",
       "      <th>Percent_x</th>\n",
       "      <th>Age_x</th>\n",
       "      <th>Sex_x</th>\n",
       "      <th>SmokingStatus_x</th>\n",
       "      <th>Patient_Week</th>\n",
       "      <th>Patient_y</th>\n",
       "      <th>Weeks_y</th>\n",
       "      <th>FVC_y</th>\n",
       "      <th>Percent_y</th>\n",
       "      <th>Age_y</th>\n",
       "      <th>Sex_y</th>\n",
       "      <th>SmokingStatus_y</th>\n",
       "    </tr>\n",
       "  </thead>\n",
       "  <tbody>\n",
       "    <tr>\n",
       "      <th>0</th>\n",
       "      <td>ID00023637202179104603099</td>\n",
       "      <td>-3</td>\n",
       "      <td>1172.144646</td>\n",
       "      <td>65.306122</td>\n",
       "      <td>71</td>\n",
       "      <td>Female</td>\n",
       "      <td>Ex-smoker</td>\n",
       "      <td>ID00023637202179104603099_-3</td>\n",
       "      <td>ID00023637202179104603099</td>\n",
       "      <td>-3</td>\n",
       "      <td>1536</td>\n",
       "      <td>65.306122</td>\n",
       "      <td>71</td>\n",
       "      <td>Female</td>\n",
       "      <td>Ex-smoker</td>\n",
       "    </tr>\n",
       "    <tr>\n",
       "      <th>1</th>\n",
       "      <td>ID00023637202179104603099</td>\n",
       "      <td>3</td>\n",
       "      <td>1070.530750</td>\n",
       "      <td>58.163265</td>\n",
       "      <td>71</td>\n",
       "      <td>Female</td>\n",
       "      <td>Ex-smoker</td>\n",
       "      <td>ID00023637202179104603099_3</td>\n",
       "      <td>ID00023637202179104603099</td>\n",
       "      <td>3</td>\n",
       "      <td>1368</td>\n",
       "      <td>58.163265</td>\n",
       "      <td>71</td>\n",
       "      <td>Female</td>\n",
       "      <td>Ex-smoker</td>\n",
       "    </tr>\n",
       "    <tr>\n",
       "      <th>2</th>\n",
       "      <td>ID00023637202179104603099</td>\n",
       "      <td>5</td>\n",
       "      <td>1061.193595</td>\n",
       "      <td>57.865646</td>\n",
       "      <td>71</td>\n",
       "      <td>Female</td>\n",
       "      <td>Ex-smoker</td>\n",
       "      <td>ID00023637202179104603099_5</td>\n",
       "      <td>ID00023637202179104603099</td>\n",
       "      <td>5</td>\n",
       "      <td>1361</td>\n",
       "      <td>57.865646</td>\n",
       "      <td>71</td>\n",
       "      <td>Female</td>\n",
       "      <td>Ex-smoker</td>\n",
       "    </tr>\n",
       "    <tr>\n",
       "      <th>3</th>\n",
       "      <td>ID00023637202179104603099</td>\n",
       "      <td>7</td>\n",
       "      <td>1107.433787</td>\n",
       "      <td>62.287415</td>\n",
       "      <td>71</td>\n",
       "      <td>Female</td>\n",
       "      <td>Ex-smoker</td>\n",
       "      <td>ID00023637202179104603099_7</td>\n",
       "      <td>ID00023637202179104603099</td>\n",
       "      <td>7</td>\n",
       "      <td>1465</td>\n",
       "      <td>62.287415</td>\n",
       "      <td>71</td>\n",
       "      <td>Female</td>\n",
       "      <td>Ex-smoker</td>\n",
       "    </tr>\n",
       "    <tr>\n",
       "      <th>4</th>\n",
       "      <td>ID00023637202179104603099</td>\n",
       "      <td>9</td>\n",
       "      <td>1209.752023</td>\n",
       "      <td>71.471088</td>\n",
       "      <td>71</td>\n",
       "      <td>Female</td>\n",
       "      <td>Ex-smoker</td>\n",
       "      <td>ID00023637202179104603099_9</td>\n",
       "      <td>ID00023637202179104603099</td>\n",
       "      <td>9</td>\n",
       "      <td>1681</td>\n",
       "      <td>71.471088</td>\n",
       "      <td>71</td>\n",
       "      <td>Female</td>\n",
       "      <td>Ex-smoker</td>\n",
       "    </tr>\n",
       "  </tbody>\n",
       "</table>\n",
       "</div>"
      ],
      "text/plain": [
       "                   Patient_x  Weeks_x        FVC_x  Percent_x  Age_x   Sex_x  \\\n",
       "0  ID00023637202179104603099       -3  1172.144646  65.306122     71  Female   \n",
       "1  ID00023637202179104603099        3  1070.530750  58.163265     71  Female   \n",
       "2  ID00023637202179104603099        5  1061.193595  57.865646     71  Female   \n",
       "3  ID00023637202179104603099        7  1107.433787  62.287415     71  Female   \n",
       "4  ID00023637202179104603099        9  1209.752023  71.471088     71  Female   \n",
       "\n",
       "  SmokingStatus_x                  Patient_Week                  Patient_y  \\\n",
       "0       Ex-smoker  ID00023637202179104603099_-3  ID00023637202179104603099   \n",
       "1       Ex-smoker   ID00023637202179104603099_3  ID00023637202179104603099   \n",
       "2       Ex-smoker   ID00023637202179104603099_5  ID00023637202179104603099   \n",
       "3       Ex-smoker   ID00023637202179104603099_7  ID00023637202179104603099   \n",
       "4       Ex-smoker   ID00023637202179104603099_9  ID00023637202179104603099   \n",
       "\n",
       "   Weeks_y  FVC_y  Percent_y  Age_y   Sex_y SmokingStatus_y  \n",
       "0       -3   1536  65.306122     71  Female       Ex-smoker  \n",
       "1        3   1368  58.163265     71  Female       Ex-smoker  \n",
       "2        5   1361  57.865646     71  Female       Ex-smoker  \n",
       "3        7   1465  62.287415     71  Female       Ex-smoker  \n",
       "4        9   1681  71.471088     71  Female       Ex-smoker  "
      ]
     },
     "execution_count": 40,
     "metadata": {},
     "output_type": "execute_result"
    }
   ],
   "source": [
    "s1.head()"
   ]
  },
  {
   "cell_type": "markdown",
   "metadata": {},
   "source": [
    "## Plotting pred vs true FVC "
   ]
  },
  {
   "cell_type": "code",
   "execution_count": 41,
   "metadata": {},
   "outputs": [],
   "source": [
    "s1 = s1.rename(columns={\"FVC_y\": \"TrueFVC\", \"FVC_x\": \"PredictedFVC\"})"
   ]
  },
  {
   "cell_type": "code",
   "execution_count": 42,
   "metadata": {
    "papermill": {
     "duration": 0.072929,
     "end_time": "2020-10-30T15:52:55.955284",
     "exception": false,
     "start_time": "2020-10-30T15:52:55.882355",
     "status": "completed"
    },
    "tags": []
   },
   "outputs": [],
   "source": [
    "from sklearn.metrics import mean_squared_error\n",
    "from math import sqrt\n",
    "\n",
    "y_test = s1.TrueFVC\n",
    "y_pred = s1.PredictedFVC\n"
   ]
  },
  {
   "cell_type": "markdown",
   "metadata": {},
   "source": [
    "RMSE score"
   ]
  },
  {
   "cell_type": "code",
   "execution_count": 43,
   "metadata": {},
   "outputs": [
    {
     "name": "stdout",
     "output_type": "stream",
     "text": [
      "506.23417392472\n"
     ]
    }
   ],
   "source": [
    "\n",
    "rms = sqrt(mean_squared_error(y_test, y_pred))\n",
    "print(rms)"
   ]
  },
  {
   "cell_type": "markdown",
   "metadata": {},
   "source": [
    "Plotting time "
   ]
  },
  {
   "cell_type": "code",
   "execution_count": 44,
   "metadata": {},
   "outputs": [
    {
     "data": {
      "image/png": "[encoded data removed]",
      "text/plain": [
       "<Figure size 432x288 with 1 Axes>"
      ]
     },
     "metadata": {
      "needs_background": "light"
     },
     "output_type": "display_data"
    }
   ],
   "source": [
    "import matplotlib.pyplot as plt # Impot the relevant module\n",
    "\n",
    "#fig, ax = plt.subplots() # Create the figure and axes object\n",
    "\n",
    "ax = y_test.plot()\n",
    "y_pred.plot(ax=ax)\n",
    "plt.suptitle('Ridge regression prediction with Feature:Percent')\n",
    "plt.legend(loc=\"upper left\")\n",
    "plt.xlabel('Patient Data Points')\n",
    "plt.ylabel('FVC score')\n",
    "ax.set_xticklabels([])\n",
    "plt.savefig('foo.png')\n",
    "\n",
    "# # Plot the first x and y axes:\n",
    "# df.plot(x = 'year', y = 'deaths', ax = ax) \n",
    "# # Plot the second x and y axes. By secondary_y = True a second y-axis is requested:\n",
    "# # (see https://pandas.pydata.org/pandas-docs/stable/reference/api/pandas.DataFrame.plot.html for details)\n",
    "# df.plot(x = 'year', y = 'cheese', ax = ax, secondary_y = True) "
   ]
  },
  {
   "cell_type": "code",
   "execution_count": 45,
   "metadata": {},
   "outputs": [
    {
     "data": {
      "text/plain": [
       "(312, 15)"
      ]
     },
     "execution_count": 45,
     "metadata": {},
     "output_type": "execute_result"
    }
   ],
   "source": [
    "s1.shape"
   ]
  },
  {
   "cell_type": "code",
   "execution_count": 46,
   "metadata": {},
   "outputs": [
    {
     "data": {
      "text/plain": [
       "array([-205.1457174 , -200.26314134, -161.74005961, -231.44396432,\n",
       "       -140.01085211, -167.19945609,  -97.26858906, -188.36372394,\n",
       "       -152.76554733, -237.67163086, -177.46775183, -192.25153528,\n",
       "       -197.75684416, -202.35872585, -158.6872219 , -198.34142721,\n",
       "       -216.283039  , -119.96935512, -193.01618983, -173.4513841 ])"
      ]
     },
     "execution_count": 46,
     "metadata": {},
     "output_type": "execute_result"
    }
   ],
   "source": [
    "cross_val_score(LinearRegression(),X,y,cv=20,scoring='neg_root_mean_squared_error')\n",
    "cross_val_score(Ridge(alpha = 0.1),X,y,cv=20,scoring='neg_root_mean_squared_error')"
   ]
  },
  {
   "cell_type": "markdown",
   "metadata": {},
   "source": [
    "Over predicting/ a more complex needed?"
   ]
  }
 ],
 "metadata": {
  "kernelspec": {
   "display_name": "Python 3",
   "language": "python",
   "name": "python3"
  },
  "language_info": {
   "codemirror_mode": {
    "name": "ipython",
    "version": 3
   },
   "file_extension": ".py",
   "mimetype": "text/x-python",
   "name": "python",
   "nbconvert_exporter": "python",
   "pygments_lexer": "ipython3",
   "version": "3.7.9"
  },
  "papermill": {
   "duration": 27.956192,
   "end_time": "2020-10-30T15:52:56.124956",
   "environment_variables": {},
   "exception": null,
   "input_path": "__notebook__.ipynb",
   "output_path": "__notebook__.ipynb",
   "parameters": {},
   "start_time": "2020-10-30T15:52:28.168764",
   "version": "2.1.0"
  }
 },
 "nbformat": 4,
 "nbformat_minor": 4
}
